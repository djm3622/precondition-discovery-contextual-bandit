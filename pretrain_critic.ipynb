{
 "cells": [
  {
   "cell_type": "markdown",
   "id": "4223c027-ce82-4deb-a5ba-727dba4b696a",
   "metadata": {},
   "source": [
    "# Critic Pretraining\n",
    "\n",
    "This notebook serves to demostrate how to pretrain the critic (from some source of generated data).\n",
    "\n",
    "## TODO\n",
    "1. Update shared training loop to take in a train step function.\n",
    "3. Update script_testing to be compatiable.\n",
    "2. Update names to Actors.\n",
    "4. LOTS"
   ]
  },
  {
   "cell_type": "markdown",
   "id": "f010b8c0-9273-4006-8577-8956b5619ec7",
   "metadata": {},
   "source": [
    "# Imports/Setup"
   ]
  },
  {
   "cell_type": "code",
   "execution_count": 1,
   "id": "c25ed6d4-eca1-4ff7-84b6-9b532cb5e8e2",
   "metadata": {},
   "outputs": [],
   "source": [
    "from Data import critic_dataset\n",
    "from Data import utility as data_utility\n",
    "from Model import critics\n",
    "from Model import utility as model_utility"
   ]
  },
  {
   "cell_type": "markdown",
   "id": "d98fd964-5ebc-4ed8-8434-67763064cddb",
   "metadata": {},
   "source": [
    "# Configuration"
   ]
  },
  {
   "cell_type": "code",
   "execution_count": 12,
   "id": "f5176df3-8fcf-4526-8b8a-0879b7015abc",
   "metadata": {},
   "outputs": [],
   "source": [
    "class Config:\n",
    "    # device\n",
    "    device_pref = 'cuda'\n",
    "    ind_dev = 3\n",
    "    \n",
    "    # dataset\n",
    "    directory = '/data/users/jupyter-dam724/RL/precondition-discovery-contextual-bandit/Buffer'\n",
    "    cache = False\n",
    "    seed = 42\n",
    "    ratio = 0.8\n",
    "    shuffle = True\n",
    "    workers = 16\n",
    "    pin = False\n",
    "    postprocess = critic_dataset.postprocess\n",
    "    \n",
    "    # model\n",
    "    n = 25\n",
    "    down = 256 # if this is change, model architecture should be changed as well\n",
    "    batch_size = 32\n",
    "    sigmoid = False"
   ]
  },
  {
   "cell_type": "markdown",
   "id": "4ea35a84-a4c5-4ff7-9b5a-3d2a67ab38e6",
   "metadata": {},
   "source": [
    "# Device"
   ]
  },
  {
   "cell_type": "code",
   "execution_count": 13,
   "id": "b97af308-0e26-427d-a001-89ff643e0cc3",
   "metadata": {},
   "outputs": [
    {
     "name": "stdout",
     "output_type": "stream",
     "text": [
      "Now using GPU.\n"
     ]
    }
   ],
   "source": [
    "device = data_utility.set_device(Config.device_pref, Config.ind_dev)"
   ]
  },
  {
   "cell_type": "markdown",
   "id": "78fd049b-89be-46af-97bb-f55939532fd8",
   "metadata": {},
   "source": [
    "# Critics Dataset\n",
    "\n",
    "Instantiate the saved files during hyperparameter tuning to a torch dataset. Caching and dataloading is recommended for full data read in speed."
   ]
  },
  {
   "cell_type": "code",
   "execution_count": 14,
   "id": "aec9b7c9-5711-4e09-b79d-abb2f73d403d",
   "metadata": {},
   "outputs": [],
   "source": [
    "files = model_utility.get_torch_files(Config.directory)"
   ]
  },
  {
   "cell_type": "code",
   "execution_count": 15,
   "id": "a2e55b8c-a43d-431b-97f1-d9dcc8351bda",
   "metadata": {},
   "outputs": [
    {
     "name": "stdout",
     "output_type": "stream",
     "text": [
      "Total files: 50623\n",
      "Training files: 40498 (80.0%)\n",
      "Validation files: 10125 (20.0%)\n"
     ]
    }
   ],
   "source": [
    "split_params = {\n",
    "    'files': files, \n",
    "    'train_ratio': Config.ratio, \n",
    "    'random_seed': Config.seed\n",
    "}\n",
    "\n",
    "train, valid = data_utility.train_valid_split(**split_params)"
   ]
  },
  {
   "cell_type": "code",
   "execution_count": 16,
   "id": "4e78a595-ae8e-478f-ae85-909e94cd75bd",
   "metadata": {},
   "outputs": [],
   "source": [
    "train_dset_params = {\n",
    "    'files': train, \n",
    "    'cache': Config.cache, \n",
    "    'root_dir': Config.directory                     \n",
    "}\n",
    "valid_dset_params = {\n",
    "    'files': valid, \n",
    "    'cache': Config.cache, \n",
    "    'root_dir': Config.directory                     \n",
    "}\n",
    "\n",
    "t_dataset = critic_dataset.CriticDataset(**train_dset_params)\n",
    "v_dataset = critic_dataset.CriticDataset(**valid_dset_params)"
   ]
  },
  {
   "cell_type": "code",
   "execution_count": 17,
   "id": "74dd30c7-84cb-4dfd-96f6-ebcf0c21c265",
   "metadata": {},
   "outputs": [],
   "source": [
    "train_dl_params = {\n",
    "    'dataset': t_dataset, \n",
    "    'batch_size': 1, \n",
    "    'shuffle': Config.shuffle, \n",
    "    'num_workers': Config.workers, \n",
    "    'pin_memory': Config.pin\n",
    "}\n",
    "valid_dl_params = {\n",
    "    'dataset': v_dataset, \n",
    "    'batch_size': 1, \n",
    "    'shuffle': Config.shuffle, \n",
    "    'num_workers': Config.workers, \n",
    "    'pin_memory': Config.pin\n",
    "}\n",
    "\n",
    "train_dl = critic_dataset.get_dataloader(**train_dl_params)\n",
    "valid_dl = critic_dataset.get_dataloader(**valid_dl_params)"
   ]
  },
  {
   "cell_type": "markdown",
   "id": "7e8a09c1-f048-4677-9285-8c1508e6b222",
   "metadata": {},
   "source": [
    "# Model\n",
    "\n",
    "Create the model for the critic. Two models are accessible: single output critc and multi ouput critic. The single and multi refer to how the output the measures of reward (combined versus seperate). Each variant requires a differnt `step` and `loss`."
   ]
  },
  {
   "cell_type": "code",
   "execution_count": 20,
   "id": "0bba65d3-01a0-484b-b9f1-a7bb2eed1e64",
   "metadata": {},
   "outputs": [],
   "source": [
    "model_params = {\n",
    "    'n': Config.n, \n",
    "    'down': Config.down, \n",
    "    'batch_size': Config.batch_size, \n",
    "    'sigmoid_scale': Config.sigmoid\n",
    "}\n",
    "\n",
    "critic = critics.MultiCritic(**model_params).to(device)"
   ]
  },
  {
   "cell_type": "code",
   "execution_count": null,
   "id": "c8c3746c-372c-4492-a484-3faf81a1988b",
   "metadata": {},
   "outputs": [],
   "source": []
  },
  {
   "cell_type": "code",
   "execution_count": null,
   "id": "d9f3a9f4-55bc-45b2-b7c6-a8b8c54250cc",
   "metadata": {},
   "outputs": [],
   "source": []
  }
 ],
 "metadata": {
  "kernelspec": {
   "display_name": "Python 3 (ipykernel)",
   "language": "python",
   "name": "python3"
  },
  "language_info": {
   "codemirror_mode": {
    "name": "ipython",
    "version": 3
   },
   "file_extension": ".py",
   "mimetype": "text/x-python",
   "name": "python",
   "nbconvert_exporter": "python",
   "pygments_lexer": "ipython3",
   "version": "3.9.7"
  }
 },
 "nbformat": 4,
 "nbformat_minor": 5
}
