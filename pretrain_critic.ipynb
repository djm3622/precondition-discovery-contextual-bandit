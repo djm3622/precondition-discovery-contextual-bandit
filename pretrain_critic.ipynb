{
 "cells": [
  {
   "cell_type": "markdown",
   "id": "4223c027-ce82-4deb-a5ba-727dba4b696a",
   "metadata": {},
   "source": [
    "# Critic Pretraining\n",
    "\n",
    "This notebook serves to demostrate how to pretrain the critic (from some source of generated data).\n",
    "\n",
    "## TODO\n",
    "1. LOTS"
   ]
  },
  {
   "cell_type": "code",
   "execution_count": null,
   "id": "c5b64236-cb3d-45b8-9a13-e7a1520f318f",
   "metadata": {},
   "outputs": [],
   "source": []
  },
  {
   "cell_type": "code",
   "execution_count": null,
   "id": "c25ed6d4-eca1-4ff7-84b6-9b532cb5e8e2",
   "metadata": {},
   "outputs": [],
   "source": []
  },
  {
   "cell_type": "code",
   "execution_count": null,
   "id": "73fc4b50-87c4-4e8f-8533-f1aebb1beed6",
   "metadata": {},
   "outputs": [],
   "source": []
  },
  {
   "cell_type": "code",
   "execution_count": null,
   "id": "aec9b7c9-5711-4e09-b79d-abb2f73d403d",
   "metadata": {},
   "outputs": [],
   "source": []
  },
  {
   "cell_type": "code",
   "execution_count": null,
   "id": "92705b30-cf24-4b1d-af1f-ec7922c89e80",
   "metadata": {},
   "outputs": [],
   "source": []
  },
  {
   "cell_type": "code",
   "execution_count": null,
   "id": "4e78a595-ae8e-478f-ae85-909e94cd75bd",
   "metadata": {},
   "outputs": [],
   "source": []
  },
  {
   "cell_type": "code",
   "execution_count": null,
   "id": "9e5025af-d50d-45b6-bfba-62cba12bdd77",
   "metadata": {},
   "outputs": [],
   "source": []
  },
  {
   "cell_type": "code",
   "execution_count": null,
   "id": "74dd30c7-84cb-4dfd-96f6-ebcf0c21c265",
   "metadata": {},
   "outputs": [],
   "source": []
  },
  {
   "cell_type": "code",
   "execution_count": null,
   "id": "5954c2c5-e503-470c-839c-74856f5e1689",
   "metadata": {},
   "outputs": [],
   "source": []
  }
 ],
 "metadata": {
  "kernelspec": {
   "display_name": "Python 3 (ipykernel)",
   "language": "python",
   "name": "python3"
  },
  "language_info": {
   "codemirror_mode": {
    "name": "ipython",
    "version": 3
   },
   "file_extension": ".py",
   "mimetype": "text/x-python",
   "name": "python",
   "nbconvert_exporter": "python",
   "pygments_lexer": "ipython3",
   "version": "3.9.7"
  }
 },
 "nbformat": 4,
 "nbformat_minor": 5
}
