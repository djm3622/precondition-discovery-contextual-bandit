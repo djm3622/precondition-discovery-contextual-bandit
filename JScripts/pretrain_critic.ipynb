{
 "cells": [
  {
   "cell_type": "markdown",
   "id": "4223c027-ce82-4deb-a5ba-727dba4b696a",
   "metadata": {},
   "source": [
    "# Critic Pretraining\n",
    "\n",
    "This notebook serves to demostrate how to pretrain the critic (from some source of generated data).\n",
    "\n",
    "## TODO\n",
    "1. LOTS"
   ]
  },
  {
   "cell_type": "markdown",
   "id": "f010b8c0-9273-4006-8577-8956b5619ec7",
   "metadata": {},
   "source": [
    "# Imports/Setup"
   ]
  },
  {
   "cell_type": "code",
   "execution_count": 1,
   "id": "c25ed6d4-eca1-4ff7-84b6-9b532cb5e8e2",
   "metadata": {},
   "outputs": [],
   "source": [
    "from Data import critic_dataset\n",
    "from Data import utility as data_utility\n",
    "from Model import critics\n",
    "from Model import utility as model_utility\n",
    "from Evaluation import utility as eval_utility\n",
    "from Objectives import losses, reward\n",
    "import torch"
   ]
  },
  {
   "cell_type": "markdown",
   "id": "d98fd964-5ebc-4ed8-8434-67763064cddb",
   "metadata": {},
   "source": [
    "# Configuration"
   ]
  },
  {
   "cell_type": "code",
   "execution_count": 2,
   "id": "f5176df3-8fcf-4526-8b8a-0879b7015abc",
   "metadata": {},
   "outputs": [],
   "source": [
    "class Config:\n",
    "    # device\n",
    "    device_pref = 'cuda'\n",
    "    ind_dev = 3\n",
    "    \n",
    "    # dataset\n",
    "    directory = '/data/users/jupyter-dam724/RL/precondition-discovery-contextual-bandit/Buffer'\n",
    "    cache = False\n",
    "    seed = 42\n",
    "    ratio = 0.8\n",
    "    shuffle = True\n",
    "    workers = 16\n",
    "    pin = False\n",
    "    postprocess = critic_dataset.postprocess\n",
    "    \n",
    "    # model\n",
    "    n = 25\n",
    "    down = 256 # if this is change, model architecture should be changed as well\n",
    "    batch_size = 32\n",
    "    sigmoid = False\n",
    "    \n",
    "    # training \n",
    "    epoches = 50\n",
    "    lr = 1e-5\n",
    "    mat_size = 25\n",
    "    batch_size = 32\n",
    "    verbose = False\n",
    "    file_path = '/data/users/jupyter-dam724/RL/precondition-discovery-contextual-bandit/RUNS/critic_sigmoid_smaller.pth'"
   ]
  },
  {
   "cell_type": "markdown",
   "id": "4ea35a84-a4c5-4ff7-9b5a-3d2a67ab38e6",
   "metadata": {},
   "source": [
    "# Device"
   ]
  },
  {
   "cell_type": "code",
   "execution_count": 3,
   "id": "b97af308-0e26-427d-a001-89ff643e0cc3",
   "metadata": {},
   "outputs": [
    {
     "name": "stdout",
     "output_type": "stream",
     "text": [
      "Now using GPU.\n"
     ]
    }
   ],
   "source": [
    "device = data_utility.set_device(Config.device_pref, Config.ind_dev)"
   ]
  },
  {
   "cell_type": "markdown",
   "id": "78fd049b-89be-46af-97bb-f55939532fd8",
   "metadata": {},
   "source": [
    "# Critics Dataset\n",
    "\n",
    "Instantiate the saved files during hyperparameter tuning to a torch dataset. Caching and dataloading is recommended for full data read in speed."
   ]
  },
  {
   "cell_type": "code",
   "execution_count": 4,
   "id": "aec9b7c9-5711-4e09-b79d-abb2f73d403d",
   "metadata": {},
   "outputs": [],
   "source": [
    "files = model_utility.get_torch_files(Config.directory)"
   ]
  },
  {
   "cell_type": "code",
   "execution_count": 5,
   "id": "a2e55b8c-a43d-431b-97f1-d9dcc8351bda",
   "metadata": {},
   "outputs": [
    {
     "name": "stdout",
     "output_type": "stream",
     "text": [
      "Total files: 50623\n",
      "Training files: 40498 (80.0%)\n",
      "Validation files: 10125 (20.0%)\n"
     ]
    }
   ],
   "source": [
    "split_params = {\n",
    "    'files': files, \n",
    "    'train_ratio': Config.ratio, \n",
    "    'random_seed': Config.seed\n",
    "}\n",
    "\n",
    "train, valid = data_utility.train_valid_split(**split_params)"
   ]
  },
  {
   "cell_type": "code",
   "execution_count": 6,
   "id": "4e78a595-ae8e-478f-ae85-909e94cd75bd",
   "metadata": {},
   "outputs": [],
   "source": [
    "train_dset_params = {\n",
    "    'files': train, \n",
    "    'cache': Config.cache, \n",
    "    'root_dir': Config.directory                     \n",
    "}\n",
    "valid_dset_params = {\n",
    "    'files': valid, \n",
    "    'cache': Config.cache, \n",
    "    'root_dir': Config.directory                     \n",
    "}\n",
    "\n",
    "t_dataset = critic_dataset.CriticDataset(**train_dset_params)\n",
    "v_dataset = critic_dataset.CriticDataset(**valid_dset_params)"
   ]
  },
  {
   "cell_type": "code",
   "execution_count": 7,
   "id": "74dd30c7-84cb-4dfd-96f6-ebcf0c21c265",
   "metadata": {},
   "outputs": [],
   "source": [
    "train_dl_params = {\n",
    "    'dataset': t_dataset, \n",
    "    'batch_size': 1, \n",
    "    'shuffle': Config.shuffle, \n",
    "    'num_workers': Config.workers, \n",
    "    'pin_memory': Config.pin\n",
    "}\n",
    "valid_dl_params = {\n",
    "    'dataset': v_dataset, \n",
    "    'batch_size': 1, \n",
    "    'shuffle': Config.shuffle, \n",
    "    'num_workers': Config.workers, \n",
    "    'pin_memory': Config.pin\n",
    "}\n",
    "\n",
    "train_dl = critic_dataset.get_dataloader(**train_dl_params)\n",
    "valid_dl = critic_dataset.get_dataloader(**valid_dl_params)"
   ]
  },
  {
   "cell_type": "markdown",
   "id": "7e8a09c1-f048-4677-9285-8c1508e6b222",
   "metadata": {},
   "source": [
    "# Model\n",
    "\n",
    "Create the model for the critic. Two models are accessible: single output critc and multi ouput critic. The single and multi refer to how the output the measures of reward (combined versus seperate). Each variant requires a differnt `step` and `loss`."
   ]
  },
  {
   "cell_type": "code",
   "execution_count": 8,
   "id": "0bba65d3-01a0-484b-b9f1-a7bb2eed1e64",
   "metadata": {},
   "outputs": [],
   "source": [
    "model_params = {\n",
    "    'n': Config.n, \n",
    "    'down': Config.down, \n",
    "    'batch_size': Config.batch_size, \n",
    "    'sigmoid_scale': Config.sigmoid\n",
    "}\n",
    "\n",
    "critic = critics.SmallerSingleCritic(**model_params).to(device)"
   ]
  },
  {
   "cell_type": "markdown",
   "id": "86754e6a-3ebd-483e-8834-2e4e74cb18e1",
   "metadata": {},
   "source": [
    "## Reward/Loss\n",
    "\n",
    "..."
   ]
  },
  {
   "cell_type": "code",
   "execution_count": 9,
   "id": "d6879c39-468b-4c7b-b892-17c65525c2f2",
   "metadata": {},
   "outputs": [],
   "source": [
    "reward_func = reward.batched_reward(25, False, False)"
   ]
  },
  {
   "cell_type": "code",
   "execution_count": 10,
   "id": "b468dcd1-cbe3-4f85-9897-62b156f5fbbf",
   "metadata": {},
   "outputs": [],
   "source": [
    "criterion = losses.CriticSingleRewardLoss(1, 1, 1, reward_func)"
   ]
  },
  {
   "cell_type": "markdown",
   "id": "31e2b274-eadd-452e-abe9-2054b51b8f1c",
   "metadata": {},
   "source": [
    "## Training\n",
    "\n",
    "..."
   ]
  },
  {
   "cell_type": "code",
   "execution_count": 11,
   "id": "c8c3746c-372c-4492-a484-3faf81a1988b",
   "metadata": {},
   "outputs": [],
   "source": [
    "def step(batch, model, criterion, device, size, batch_size):\n",
    "    A, M, b = critic_dataset.postprocess(*batch)\n",
    "    A, M, b = A.to(device).float(), M.to(device).float(), b.to(device).float()\n",
    "    inp = torch.concat([A.view(batch_size, size**2), M.view(batch_size, size**2)], dim=1)\n",
    "    \n",
    "    out = model(inp)\n",
    "    \n",
    "    loss = criterion(out, A, M, b)\n",
    "    return loss\n",
    "\n",
    "training_params = {\n",
    "    'epoches': Config.epoches,\n",
    "    'criterion': criterion,\n",
    "    'step': step,\n",
    "    'train_loader': train_dl,\n",
    "    'valid_loader': valid_dl,\n",
    "    'model': critic,\n",
    "    'lr': Config.lr,\n",
    "    'size': Config.mat_size,\n",
    "    'batch_size': Config.batch_size,\n",
    "    'device': device,\n",
    "    'verbose': Config.verbose,\n",
    "    'file_path': Config.file_path,\n",
    "    'accumulation_steps': 1\n",
    "}"
   ]
  },
  {
   "cell_type": "code",
   "execution_count": null,
   "id": "d9f3a9f4-55bc-45b2-b7c6-a8b8c54250cc",
   "metadata": {
    "tags": []
   },
   "outputs": [
    {
     "name": "stdout",
     "output_type": "stream",
     "text": [
      "Epoch: 0, Train: 0.18004600376226232, Valid: 0.13676606078111683\n",
      "Epoch: 1, Train: 0.11468232889654718, Valid: 0.08936709128249218\n",
      "Epoch: 2, Train: 0.08310423778627347, Valid: 0.07972785437407251\n",
      "Epoch: 3, Train: 0.06964390026778397, Valid: 0.07227596155249616\n",
      "Epoch: 4, Train: 0.061133413352334624, Valid: 0.061339983988434356\n",
      "Epoch: 5, Train: 0.05507215980948565, Valid: 0.07287785783467274\n",
      "Epoch: 6, Train: 0.05053653260501083, Valid: 0.04485292739160057\n"
     ]
    }
   ],
   "source": [
    "train_log, valid_log = model_utility.shared_training_loop(**training_params)"
   ]
  },
  {
   "cell_type": "code",
   "execution_count": 15,
   "id": "211ad530-d62f-435d-b556-7378c3c61882",
   "metadata": {},
   "outputs": [],
   "source": [
    "plot_training_params = {\n",
    "    'train_log': train_log,\n",
    "    'valid_log': valid_log,\n",
    "    'title': 'EX_t', \n",
    "    'file_path': 'plt.png'\n",
    "}"
   ]
  },
  {
   "cell_type": "code",
   "execution_count": 16,
   "id": "fa2c4898-7af2-4a97-b1e6-db577c104000",
   "metadata": {},
   "outputs": [
    {
     "data": {
      "image/png": "[encoded data removed]",
      "text/plain": [
       "<Figure size 640x480 with 1 Axes>"
      ]
     },
     "metadata": {},
     "output_type": "display_data"
    }
   ],
   "source": [
    "eval_utility.plot_training(**plot_training_params)"
   ]
  },
  {
   "cell_type": "code",
   "execution_count": 17,
   "id": "9d71a485-82c4-4e6a-8fdf-a33795844fcd",
   "metadata": {},
   "outputs": [],
   "source": [
    "import matplotlib.pyplot as plt"
   ]
  },
  {
   "cell_type": "code",
   "execution_count": 24,
   "id": "371cb849-7721-4ddf-9034-56c331470669",
   "metadata": {},
   "outputs": [
    {
     "data": {
      "text/plain": [
       "tensor([[8.0978e-01, 1.4170e-09, 1.9199e-01],\n",
       "        [7.9083e-01, 7.8184e-10, 1.7426e-01],\n",
       "        [8.0756e-01, 4.8500e-10, 1.7904e-01],\n",
       "        [8.1216e-01, 7.2386e-10, 1.8524e-01],\n",
       "        [7.9105e-01, 1.7841e-09, 1.8948e-01],\n",
       "        [8.2773e-01, 3.6985e-10, 1.7723e-01],\n",
       "        [8.0371e-01, 4.9738e-10, 1.7536e-01],\n",
       "        [8.0256e-01, 5.7855e-10, 1.8196e-01],\n",
       "        [8.1078e-01, 6.8540e-10, 1.8361e-01],\n",
       "        [8.0485e-01, 1.4135e-09, 1.9071e-01],\n",
       "        [7.9910e-01, 1.0856e-09, 1.8180e-01],\n",
       "        [8.0520e-01, 5.8086e-10, 1.7397e-01],\n",
       "        [8.0051e-01, 1.1172e-09, 1.8304e-01],\n",
       "        [8.0945e-01, 4.0418e-10, 1.7651e-01],\n",
       "        [8.0916e-01, 1.1247e-09, 1.8558e-01],\n",
       "        [8.1054e-01, 5.7276e-10, 1.8149e-01],\n",
       "        [7.6420e-01, 1.4753e-09, 1.8467e-01],\n",
       "        [8.0803e-01, 6.6368e-10, 1.7513e-01],\n",
       "        [8.1985e-01, 5.7863e-10, 1.7822e-01],\n",
       "        [8.0645e-01, 9.2648e-10, 1.8101e-01],\n",
       "        [8.1310e-01, 9.0101e-10, 1.8656e-01],\n",
       "        [8.0602e-01, 6.9166e-10, 1.7839e-01],\n",
       "        [7.9570e-01, 1.3400e-09, 1.8975e-01],\n",
       "        [7.9227e-01, 8.0914e-10, 1.7988e-01],\n",
       "        [7.9300e-01, 1.2721e-09, 1.9017e-01],\n",
       "        [8.0405e-01, 1.2129e-09, 1.8504e-01],\n",
       "        [7.9027e-01, 5.1920e-10, 1.6755e-01],\n",
       "        [8.1115e-01, 5.9755e-10, 1.7548e-01],\n",
       "        [8.1453e-01, 4.2302e-10, 1.6835e-01],\n",
       "        [8.0083e-01, 7.8685e-10, 1.7710e-01],\n",
       "        [8.0450e-01, 5.4542e-10, 1.8012e-01],\n",
       "        [8.1070e-01, 4.5166e-10, 1.7487e-01]], device='cuda:3',\n",
       "       grad_fn=<SigmoidBackward0>)"
      ]
     },
     "execution_count": 24,
     "metadata": {},
     "output_type": "execute_result"
    }
   ],
   "source": [
    "A, M, b = critic_dataset.postprocess(*next(iter(valid_dl)))\n",
    "A, M, b = A.to(device).float(), M.to(device).float(), b.to(device).float()\n",
    "inp = torch.concat([A.view(32, 25**2), M.view(32, 25**2)], dim=1)\n",
    "\n",
    "critic(inp)"
   ]
  },
  {
   "cell_type": "code",
   "execution_count": 25,
   "id": "1977236e-9a69-44ec-8a79-7916a189ff75",
   "metadata": {},
   "outputs": [
    {
     "data": {
      "text/plain": [
       "(tensor([0.8272, 0.8320, 0.8288, 0.8352, 0.8240, 0.8128, 0.8256, 0.8528, 0.8352,\n",
       "         0.8416, 0.8320, 0.8352, 0.8192, 0.8512, 0.8176, 0.8224, 0.7968, 0.8288,\n",
       "         0.8160, 0.8064, 0.8416, 0.8384, 0.8048, 0.8112, 0.8288, 0.8112, 0.8256,\n",
       "         0.8320, 0.8176, 0.8256, 0.8304, 0.8576], device='cuda:3'),\n",
       " 0,\n",
       " tensor([[0.0226],\n",
       "         [0.0856],\n",
       "         [0.6927],\n",
       "         [0.0408],\n",
       "         [0.0734],\n",
       "         [0.3656],\n",
       "         [0.0411],\n",
       "         [0.3784],\n",
       "         [0.1197],\n",
       "         [0.0329],\n",
       "         [0.0300],\n",
       "         [0.1401],\n",
       "         [0.0678],\n",
       "         [0.0347],\n",
       "         [0.0707],\n",
       "         [0.3364],\n",
       "         [0.0680],\n",
       "         [0.3430],\n",
       "         [0.2099],\n",
       "         [0.1983],\n",
       "         [0.0384],\n",
       "         [0.4446],\n",
       "         [0.2311],\n",
       "         [0.0574],\n",
       "         [0.2361],\n",
       "         [0.0559],\n",
       "         [0.6306],\n",
       "         [0.0741],\n",
       "         [0.0779],\n",
       "         [0.5249],\n",
       "         [0.0441],\n",
       "         [0.1048]], device='cuda:3'))"
      ]
     },
     "execution_count": 25,
     "metadata": {},
     "output_type": "execute_result"
    }
   ],
   "source": [
    "import torch\n",
    "from torch_cg.torch_cg import cg_batch\n",
    "\n",
    "# Compute the the ground truth for the batched reward\n",
    "class batched_reward():\n",
    "    def __init__(self, size, verbose):\n",
    "        self.size = size\n",
    "        self.verbose = verbose\n",
    "    \n",
    "    def forward(self, A, M, b):\n",
    "        _, info = cg_batch(\n",
    "            lambda x: torch.matmul(A, x), b,                   \n",
    "            lambda x: torch.matmul(M, x), \n",
    "            maxiter=self.size, \n",
    "            verbose=self.verbose\n",
    "        )\n",
    "        niter, optimal, last_residual = info['niter'], info['optimal'], info['last_residual']\n",
    "        \n",
    "        sparse_v = 1 - (torch.count_nonzero(M, dim=(1, 2)) / (self.size**2)) # 1 - (non / total) = % of zero\n",
    "        iters_v = 0 if not optimal else 1/niter\n",
    "        res_v = 1/(1+last_residual)\n",
    "                \n",
    "        return sparse_v, iters_v, res_v\n",
    "    \n",
    "b_reward = batched_reward(25, False)\n",
    "b_reward.forward(A, M, b)"
   ]
  },
  {
   "cell_type": "code",
   "execution_count": 26,
   "id": "29b80beb-c08b-4cf2-bdac-ca3d04328810",
   "metadata": {},
   "outputs": [
    {
     "data": {
      "text/plain": [
       "<matplotlib.image.AxesImage at 0x7f39cc0ae370>"
      ]
     },
     "execution_count": 26,
     "metadata": {},
     "output_type": "execute_result"
    },
    {
     "data": {
      "image/png": "[encoded data removed]",
      "text/plain": [
       "<Figure size 480x480 with 1 Axes>"
      ]
     },
     "metadata": {},
     "output_type": "display_data"
    }
   ],
   "source": [
    "plt.matshow(M[0].cpu())"
   ]
  },
  {
   "cell_type": "code",
   "execution_count": null,
   "id": "b76eb770-128e-4f0d-a4a3-bfd881d89ac8",
   "metadata": {},
   "outputs": [],
   "source": []
  },
  {
   "cell_type": "code",
   "execution_count": null,
   "id": "d20abb2a-cc46-41de-97ab-ec723e41503c",
   "metadata": {},
   "outputs": [],
   "source": []
  }
 ],
 "metadata": {
  "kernelspec": {
   "display_name": "Python 3 (ipykernel)",
   "language": "python",
   "name": "python3"
  },
  "language_info": {
   "codemirror_mode": {
    "name": "ipython",
    "version": 3
   },
   "file_extension": ".py",
   "mimetype": "text/x-python",
   "name": "python",
   "nbconvert_exporter": "python",
   "pygments_lexer": "ipython3",
   "version": "3.9.7"
  }
 },
 "nbformat": 4,
 "nbformat_minor": 5
}
