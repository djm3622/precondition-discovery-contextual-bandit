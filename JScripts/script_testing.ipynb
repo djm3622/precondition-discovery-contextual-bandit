{
 "cells": [
  {
   "cell_type": "markdown",
   "id": "5214785b-d442-4bc0-803f-6e1cc966d7f4",
   "metadata": {},
   "source": [
    "# Summary\n",
    "\n",
    "This notebook provides a breath of all the features offered in the project. "
   ]
  },
  {
   "cell_type": "markdown",
   "id": "9deb6846-340a-4de1-88d3-ca46472fbe0c",
   "metadata": {},
   "source": [
    "# Imports/Setup"
   ]
  },
  {
   "cell_type": "code",
   "execution_count": 1,
   "id": "ee3f0489-31df-4d50-9265-1b60552edc09",
   "metadata": {},
   "outputs": [
    {
     "name": "stderr",
     "output_type": "stream",
     "text": [
      "/data/users/jupyter-dam724/.local/lib/python3.9/site-packages/torch_geometric/typing.py:68: UserWarning: An issue occurred while importing 'pyg-lib'. Disabling its usage. Stacktrace: /data/users/jupyter-dam724/.local/lib/python3.9/site-packages/libpyg.so: undefined symbol: _ZN3c1010Dispatcher17runRecordFunctionERN2at14RecordFunctionESt17reference_wrapperIKNS_14FunctionSchemaEENS_11DispatchKeyE\n",
      "  warnings.warn(f\"An issue occurred while importing 'pyg-lib'. \"\n",
      "/data/users/jupyter-dam724/.local/lib/python3.9/site-packages/torch_geometric/typing.py:97: UserWarning: An issue occurred while importing 'torch-cluster'. Disabling its usage. Stacktrace: /data/users/jupyter-dam724/.local/lib/python3.9/site-packages/torch_cluster/_version_cuda.so: undefined symbol: _ZN5torch3jit17parseSchemaOrNameERKSs\n",
      "  warnings.warn(f\"An issue occurred while importing 'torch-cluster'. \"\n",
      "/data/users/jupyter-dam724/.local/lib/python3.9/site-packages/torch_geometric/typing.py:113: UserWarning: An issue occurred while importing 'torch-spline-conv'. Disabling its usage. Stacktrace: /data/users/jupyter-dam724/.local/lib/python3.9/site-packages/torch_spline_conv/_version_cuda.so: undefined symbol: _ZN5torch3jit17parseSchemaOrNameERKSs\n",
      "  warnings.warn(\n",
      "/data/users/jupyter-dam724/.local/lib/python3.9/site-packages/torch_geometric/typing.py:124: UserWarning: An issue occurred while importing 'torch-sparse'. Disabling its usage. Stacktrace: /data/users/jupyter-dam724/.local/lib/python3.9/site-packages/torch_sparse/_version_cuda.so: undefined symbol: _ZN5torch3jit17parseSchemaOrNameERKSs\n",
      "  warnings.warn(f\"An issue occurred while importing 'torch-sparse'. \"\n"
     ]
    }
   ],
   "source": [
    "from Data import dataset, generator\n",
    "from Data import utility as data_utility\n",
    "from Evaluation import utility as eval_utility\n",
    "from Model import actors, scipy\n",
    "from Model import utility as model_utility\n",
    "from Objectives import losses\n",
    "import matplotlib.pyplot as plt"
   ]
  },
  {
   "cell_type": "markdown",
   "id": "24f8b911-c9fc-405a-bdd9-9ff52595cfa7",
   "metadata": {},
   "source": [
    "This configuration class is the central control for the training process."
   ]
  },
  {
   "cell_type": "code",
   "execution_count": 2,
   "id": "0e9ede6f-6c31-48e1-be95-1672ece789a5",
   "metadata": {},
   "outputs": [],
   "source": [
    "class Config:\n",
    "    # dataset\n",
    "    batch_size = 32\n",
    "    gen_size = 5\n",
    "    mat_size = 5**2\n",
    "    seed = 42\n",
    "    \n",
    "    # dataloader\n",
    "    train_len = 1000\n",
    "    valid_len = 100\n",
    "    shuffle = True\n",
    "    \n",
    "    # device\n",
    "    device_pref = 'cuda'\n",
    "    device_ind = 3\n",
    "    \n",
    "    # model\n",
    "    hidden = 256 # 128 for LU (it doubles the amount of layers) | 512 for NID it has larger output same layers | 256 else\n",
    "    sparse_tol = 1e-5\n",
    "    diagonal_bias = 0.1\n",
    "    \n",
    "    # loss\n",
    "    l1 =  0\n",
    "    inv = 0\n",
    "    dev = 0\n",
    "    cond = 1.0\n",
    "    \n",
    "    # training\n",
    "    epoches = 100\n",
    "    lr = 1e-5\n",
    "    verbose = False\n",
    "    file_path = '/data/users/jupyter-dam724/RL/precondition-discovery-contextual-bandit/RUNS/testing_3.pth'\n",
    "    \n",
    "    # model save/load\n",
    "    file_path = '/data/users/jupyter-dam724/RL/precondition-discovery-contextual-bandit/RUNS/testing_3.pth'\n",
    "    \n",
    "    # train save/load\n",
    "    log_path = '/data/users/jupyter-dam724/RL/precondition-discovery-contextual-bandit/RUNS/logs_2.npz'"
   ]
  },
  {
   "cell_type": "markdown",
   "id": "41cba0b2-b893-494f-812b-5785e47e5ec4",
   "metadata": {},
   "source": [
    "# Dataset/Dataloader\n",
    "\n",
    "There are two different provided test cases, one SPD and the other NID."
   ]
  },
  {
   "cell_type": "code",
   "execution_count": 3,
   "id": "db08bce0-ab06-4446-b236-f56b839f609a",
   "metadata": {},
   "outputs": [],
   "source": [
    "train_dataset_params = {\n",
    "    'generator': generator.generate_2d_diffusion_spd,\n",
    "    'norm_feat': data_utility.normalize_features,\n",
    "    'epoch_len': Config.train_len,\n",
    "    'batch_size': Config.batch_size,\n",
    "    'size': Config.gen_size\n",
    "}\n",
    "\n",
    "valid_dataset_params = {\n",
    "    'generator': generator.generate_2d_diffusion_spd,\n",
    "    'norm_feat': data_utility.normalize_features,\n",
    "    'epoch_len': Config.valid_len,\n",
    "    'batch_size': Config.batch_size,\n",
    "    'size': Config.gen_size\n",
    "}"
   ]
  },
  {
   "cell_type": "code",
   "execution_count": 4,
   "id": "cd6ce842-809f-4bfb-a5b0-26d4e4287597",
   "metadata": {},
   "outputs": [],
   "source": [
    "train_dataset = dataset.SystemDataset(**train_dataset_params)\n",
    "valid_dataset = dataset.SystemDataset(**valid_dataset_params)"
   ]
  },
  {
   "cell_type": "code",
   "execution_count": 5,
   "id": "457018a4-bf6a-4e44-85e8-f2bba294dc13",
   "metadata": {},
   "outputs": [],
   "source": [
    "train_dataloader_params = {\n",
    "    'dataset': train_dataset,\n",
    "    'batch_size': Config.batch_size,\n",
    "    'shuffle': Config.shuffle\n",
    "}\n",
    "\n",
    "valid_dataloader_params = {\n",
    "    'dataset': valid_dataset,\n",
    "    'batch_size': Config.batch_size,\n",
    "    'shuffle': Config.shuffle\n",
    "}"
   ]
  },
  {
   "cell_type": "code",
   "execution_count": 6,
   "id": "cb2d39c1-bf44-4537-9217-2db1d7f40f74",
   "metadata": {},
   "outputs": [],
   "source": [
    "train_dataloader = dataset.get_dataloader(**train_dataloader_params)\n",
    "valid_dataloader = dataset.get_dataloader(**valid_dataloader_params)"
   ]
  },
  {
   "cell_type": "code",
   "execution_count": 7,
   "id": "a699093b-8bfe-4fb0-b29a-6c65e0ccc4a8",
   "metadata": {},
   "outputs": [],
   "source": [
    "A, b = next(iter(train_dataloader))"
   ]
  },
  {
   "cell_type": "code",
   "execution_count": 8,
   "id": "790592ca-3c9a-4361-8842-b6b2a2ffe511",
   "metadata": {},
   "outputs": [
    {
     "name": "stdout",
     "output_type": "stream",
     "text": [
      "Determinent: 959762944.0\n",
      "Matrix is non-singular.\n",
      "Condition: 4253.85546875\n",
      "SPD\n"
     ]
    },
    {
     "data": {
      "image/png": "[encoded data removed]",
      "text/plain": [
       "<Figure size 640x480 with 1 Axes>"
      ]
     },
     "metadata": {},
     "output_type": "display_data"
    }
   ],
   "source": [
    "ind = 0\n",
    "fig, ax = plt.subplots(1, 1)\n",
    "\n",
    "data_utility.check_singularity(A, ind)\n",
    "data_utility.check_conditioning(A, ind)\n",
    "data_utility.view_matrix(A, ind, ax)\n",
    "print('SPD') if data_utility.is_spd(A, ind) else print('Non-SPD')"
   ]
  },
  {
   "cell_type": "markdown",
   "id": "0ee2a0c8-0db8-4248-9b70-df8048e81474",
   "metadata": {},
   "source": [
    "# Device\n",
    "\n",
    "Gather the device."
   ]
  },
  {
   "cell_type": "code",
   "execution_count": 9,
   "id": "d2250f60-4c70-47be-b76c-65f08d8037d6",
   "metadata": {},
   "outputs": [],
   "source": [
    "device_params = {\n",
    "    'device_pref': Config.device_pref,\n",
    "    'ind_dev': Config.device_ind\n",
    "}"
   ]
  },
  {
   "cell_type": "code",
   "execution_count": 10,
   "id": "ca275a22-798e-4fbb-82d3-9a7d0bd50ee1",
   "metadata": {},
   "outputs": [
    {
     "name": "stdout",
     "output_type": "stream",
     "text": [
      "Now using GPU.\n"
     ]
    }
   ],
   "source": [
    "device = data_utility.set_device(**device_params)"
   ]
  },
  {
   "cell_type": "markdown",
   "id": "408b9b0c-b05f-421a-bf9c-27f745e4e168",
   "metadata": {},
   "source": [
    "# Model\n",
    "\n",
    "The primary driver is a linear model. Our setup allows for easy swappout as long as the model ouputs a batch of preconditioners."
   ]
  },
  {
   "cell_type": "code",
   "execution_count": 11,
   "id": "7ce0e74f-6582-4c03-a9c2-97a4ab8a8c72",
   "metadata": {},
   "outputs": [],
   "source": [
    "model_params = {\n",
    "    'n':Config.mat_size,\n",
    "    'hidden':Config.hidden,\n",
    "    'batch_size':Config.batch_size,\n",
    "    'sparse_tol':Config.sparse_tol,\n",
    "    'diagonal_bias':Config.diagonal_bias\n",
    "}"
   ]
  },
  {
   "cell_type": "code",
   "execution_count": 12,
   "id": "0f351466-cb77-4fcd-96b2-4a72e24e2736",
   "metadata": {},
   "outputs": [],
   "source": [
    "model = actors.CholeskyFCN(**model_params).to(device)"
   ]
  },
  {
   "cell_type": "markdown",
   "id": "914686d4-b868-45b5-9f73-cf6ad0f5d345",
   "metadata": {},
   "source": [
    "# Loss Function\n",
    "\n",
    "We use loss function that combines many different objective functions. This can easy be swapped out for faster and most stable training but we use this primarily for use in the hyperparameter tuning phase."
   ]
  },
  {
   "cell_type": "code",
   "execution_count": 13,
   "id": "9ced5c6f-153b-4ffa-8f79-a8823d48e66b",
   "metadata": {},
   "outputs": [],
   "source": [
    "loss_params = {\n",
    "    'l1': Config.l1,\n",
    "    'inv': Config.inv,\n",
    "    'dev': Config.dev,\n",
    "    'cond': Config.cond,\n",
    "    'batch_size': Config.batch_size,\n",
    "    'size': Config.mat_size\n",
    "}"
   ]
  },
  {
   "cell_type": "code",
   "execution_count": 14,
   "id": "5dc02c95-59de-49a3-87a8-6c42ea76f369",
   "metadata": {},
   "outputs": [],
   "source": [
    "criterion = losses.CondEyeDistance(**loss_params)"
   ]
  },
  {
   "cell_type": "markdown",
   "id": "a6855da2-102c-496f-ab13-60de93cc08a6",
   "metadata": {},
   "source": [
    "# Training\n",
    "\n",
    "The training block. We also gather training results."
   ]
  },
  {
   "cell_type": "code",
   "execution_count": 15,
   "id": "6a35ed7a-e9f3-4e20-b16d-0afec887b457",
   "metadata": {},
   "outputs": [],
   "source": [
    "def step(batch, model, criterion, device, size, batch_size):\n",
    "    A, b = batch\n",
    "    A, b = A.to(device), b.to(device)\n",
    "    output = model(A.view(batch_size, size*size))\n",
    "    return criterion(A, output.view(batch_size, size, size))\n",
    "\n",
    "training_params = {\n",
    "    'epoches': Config.epoches,\n",
    "    'criterion': criterion,\n",
    "    'step': step,\n",
    "    'train_loader': train_dataloader,\n",
    "    'valid_loader': valid_dataloader,\n",
    "    'model': model,\n",
    "    'lr': Config.lr,\n",
    "    'size': Config.mat_size,\n",
    "    'batch_size': Config.batch_size,\n",
    "    'device': device,\n",
    "    'verbose': Config.verbose,\n",
    "    'file_path': Config.file_path\n",
    "}"
   ]
  },
  {
   "cell_type": "code",
   "execution_count": 59,
   "id": "b51229ca-ff39-4f70-ac56-0aeed94e0d97",
   "metadata": {
    "scrolled": true,
    "tags": []
   },
   "outputs": [
    {
     "name": "stdout",
     "output_type": "stream",
     "text": [
      "Epoch: 0, Train: 1.2638426232337951, Valid: 1.2598508167266846\n",
      "Epoch: 1, Train: 1.2516646062135697, Valid: 1.2795119655132294\n",
      "Epoch: 2, Train: 1.2446021109819412, Valid: 1.2535628914833068\n",
      "Epoch: 3, Train: 1.2402566826343537, Valid: 1.4962711572647094\n",
      "Epoch: 4, Train: 1.2371451888084413, Valid: 1.2401217496395112\n",
      "Epoch: 5, Train: 1.2261495430469513, Valid: 1.2041577553749085\n",
      "Epoch: 6, Train: 1.220173397898674, Valid: 1.1996471035480498\n",
      "Epoch: 7, Train: 1.2252104022502899, Valid: 1.3067807793617248\n",
      "Epoch: 8, Train: 1.2145328565835953, Valid: 1.1949897110462189\n",
      "Epoch: 9, Train: 1.2070407418012619, Valid: 1.1848846423625945\n",
      "Epoch: 10, Train: 1.2000970541238785, Valid: 1.1755212700366975\n",
      "Epoch: 11, Train: 1.227777515888214, Valid: 1.1707253777980804\n",
      "Epoch: 12, Train: 1.1929822001457215, Valid: 1.2359226405620576\n",
      "Epoch: 13, Train: 1.198656995177269, Valid: 1.1976814222335816\n",
      "Epoch: 14, Train: 1.2053639365434647, Valid: 1.4008554935455322\n",
      "Epoch: 15, Train: 1.19268101477623, Valid: 1.2501286339759827\n",
      "Epoch: 16, Train: 1.1902314797639846, Valid: 1.1661665725708008\n",
      "Epoch: 17, Train: 1.1850911229848862, Valid: 1.1566855144500732\n",
      "Epoch: 18, Train: 1.1834084094762802, Valid: 1.3464047467708589\n",
      "Epoch: 19, Train: 1.194127436041832, Valid: 1.19688702583313\n",
      "Epoch: 20, Train: 1.1672616159915925, Valid: 1.1721478295326233\n",
      "Epoch: 21, Train: 1.1844075882434846, Valid: 1.1972756099700927\n",
      "Epoch: 22, Train: 1.173897577881813, Valid: 1.1561755537986755\n",
      "Epoch: 23, Train: 1.170284673333168, Valid: 1.128230836391449\n",
      "Epoch: 24, Train: 1.1637989403009414, Valid: 1.1655218708515167\n",
      "Epoch: 25, Train: 1.1615285714864731, Valid: 1.1259007328748702\n",
      "Epoch: 26, Train: 1.1583386251926422, Valid: 1.2804749536514282\n",
      "Epoch: 27, Train: 1.1580581568479538, Valid: 1.1541019833087922\n",
      "Epoch: 28, Train: 1.1560336749553681, Valid: 1.1600737762451172\n",
      "Epoch: 29, Train: 1.1552974932193756, Valid: 1.1157137203216552\n",
      "Epoch: 30, Train: 1.1471440822482109, Valid: 1.2022768759727478\n",
      "Epoch: 31, Train: 1.1513274655342103, Valid: 1.1453648936748504\n",
      "Epoch: 32, Train: 1.147428433895111, Valid: 1.281524076461792\n",
      "Epoch: 33, Train: 1.1542730769515037, Valid: 1.1654454529285432\n",
      "Epoch: 34, Train: 1.1345308680534363, Valid: 1.1599158620834351\n",
      "Epoch: 35, Train: 1.1458489886522294, Valid: 1.118837774991989\n",
      "Epoch: 36, Train: 1.0944042534828187, Valid: 1.0923542404174804\n",
      "Epoch: 37, Train: 1.0929718467593192, Valid: 1.0933290445804595\n",
      "Epoch: 38, Train: 1.0908713372349739, Valid: 1.0875734543800355\n",
      "Epoch: 39, Train: 1.0923881707787513, Valid: 1.1007930910587311\n",
      "Epoch: 40, Train: 1.0922549160122872, Valid: 1.0959259533882142\n",
      "Epoch: 41, Train: 1.092123948931694, Valid: 1.0864720970392228\n",
      "Epoch: 42, Train: 1.0903335781097412, Valid: 1.0897058284282684\n",
      "Epoch: 43, Train: 1.0877890775799752, Valid: 1.088617932200432\n",
      "Epoch: 44, Train: 1.0856375815272332, Valid: 1.0862356400489808\n",
      "Epoch: 45, Train: 1.0861042141914368, Valid: 1.0851084393262864\n",
      "Epoch: 46, Train: 1.0849672361016274, Valid: 1.095661123394966\n",
      "Epoch: 47, Train: 1.0855874418020248, Valid: 1.0861553686857224\n",
      "Epoch: 48, Train: 1.0888214328885077, Valid: 1.085292557477951\n",
      "Epoch: 49, Train: 1.0858035381436348, Valid: 1.0808385384082795\n",
      "Epoch: 50, Train: 1.0857963134646416, Valid: 1.0913444292545318\n",
      "Epoch: 51, Train: 1.0815946088433266, Valid: 1.0871727538108826\n",
      "Epoch: 52, Train: 1.0845210595726966, Valid: 1.0889644509553909\n",
      "Epoch: 53, Train: 1.0877453829050063, Valid: 1.0818307602405548\n",
      "Epoch: 54, Train: 1.0873498632907868, Valid: 1.087137520313263\n",
      "Epoch: 55, Train: 1.0874047824144364, Valid: 1.088384045958519\n",
      "Epoch: 56, Train: 1.0843306857347488, Valid: 1.0848008531332016\n",
      "Epoch: 57, Train: 1.0863612727522851, Valid: 1.0858286041021348\n",
      "Epoch: 58, Train: 1.0869695611596109, Valid: 1.0870869803428649\n",
      "Epoch: 59, Train: 1.0877538882493973, Valid: 1.0920002681016923\n",
      "Epoch: 60, Train: 1.0863752522468566, Valid: 1.0886342298984528\n",
      "Epoch: 61, Train: 1.0879828016757964, Valid: 1.0860978960990906\n",
      "Epoch: 62, Train: 1.0864887447953224, Valid: 1.092087219953537\n",
      "Epoch: 63, Train: 1.086579495728016, Valid: 1.0828717505931855\n",
      "Epoch: 64, Train: 1.0842624456882477, Valid: 1.0857405066490173\n",
      "Epoch: 65, Train: 1.0891568205952644, Valid: 1.087430169582367\n",
      "Epoch: 66, Train: 1.0857521281838418, Valid: 1.0863710784912108\n",
      "Epoch: 67, Train: 1.086788926422596, Valid: 1.0865417993068696\n",
      "Epoch: 68, Train: 1.0872897152900696, Valid: 1.0810931819677352\n",
      "Epoch: 69, Train: 1.0845675956606864, Valid: 1.0875242882966996\n",
      "Epoch: 70, Train: 1.0848910427093506, Valid: 1.0832044619321823\n",
      "Epoch: 71, Train: 1.084880508005619, Valid: 1.0902039724588395\n",
      "Epoch: 72, Train: 1.0836361355781554, Valid: 1.0870666426420212\n",
      "Epoch: 73, Train: 1.0850308929085732, Valid: 1.0870038175582886\n",
      "Epoch: 74, Train: 1.0857959876060486, Valid: 1.0789129269123077\n",
      "Epoch: 75, Train: 1.0850160929560662, Valid: 1.08700974047184\n",
      "Epoch: 76, Train: 1.082953293800354, Valid: 1.0873406267166137\n",
      "Epoch: 77, Train: 1.085332782447338, Valid: 1.0874138677120209\n",
      "Epoch: 78, Train: 1.0826912122368813, Valid: 1.0847294998168946\n",
      "Epoch: 79, Train: 1.0854438921809197, Valid: 1.0851816701889039\n",
      "Epoch: 80, Train: 1.0847488114237784, Valid: 1.0828054904937745\n",
      "Epoch: 81, Train: 1.0859737238287925, Valid: 1.087068938612938\n",
      "Epoch: 82, Train: 1.0865228873491288, Valid: 1.0863498717546463\n",
      "Epoch: 83, Train: 1.086713563323021, Valid: 1.0840731322765351\n",
      "Epoch: 84, Train: 1.0833749848604202, Valid: 1.0945129680633545\n",
      "Epoch: 85, Train: 1.0862658237814904, Valid: 1.078891858458519\n",
      "Epoch: 86, Train: 1.0835288001298904, Valid: 1.0945942544937133\n",
      "Epoch: 87, Train: 1.0867026115059852, Valid: 1.084184490442276\n",
      "Epoch: 88, Train: 1.0850424655675888, Valid: 1.0834258282184601\n",
      "Epoch: 89, Train: 1.0853506966233253, Valid: 1.0835881572961807\n",
      "Epoch: 90, Train: 1.0828302250504493, Valid: 1.0851034277677536\n",
      "Epoch: 91, Train: 1.0858005003929139, Valid: 1.0866123390197755\n",
      "Epoch: 92, Train: 1.0864468649029733, Valid: 1.0873638594150543\n",
      "Epoch: 93, Train: 1.0860876308083534, Valid: 1.0870904982089997\n",
      "Epoch: 94, Train: 1.086520338833332, Valid: 1.082973141670227\n",
      "Epoch: 95, Train: 1.0859195123314858, Valid: 1.0816736435890197\n",
      "Epoch: 96, Train: 1.0856080852746963, Valid: 1.0851252317428588\n",
      "Epoch: 97, Train: 1.084768396258354, Valid: 1.0811206674575806\n",
      "Epoch: 98, Train: 1.0837358201146126, Valid: 1.0797767066955566\n",
      "Epoch: 99, Train: 1.0825295184850692, Valid: 1.0826747387647628\n"
     ]
    }
   ],
   "source": [
    "train_log, valid_log = model_utility.shared_training_loop(**training_params)"
   ]
  },
  {
   "cell_type": "markdown",
   "id": "337e7480-b727-4e9a-8c1d-c91f9ae1577e",
   "metadata": {},
   "source": [
    "# Evaluation\n",
    "\n",
    "We provide many quantitative and qualitative outlets to assess training strength."
   ]
  },
  {
   "cell_type": "code",
   "execution_count": 60,
   "id": "fdc2f2fd-19d8-4914-90f9-3c888f73a3a5",
   "metadata": {},
   "outputs": [],
   "source": [
    "plot_training_params = {\n",
    "    'train_log': train_log,\n",
    "    'valid_log': valid_log,\n",
    "    'title': 'EX', \n",
    "    'file_path': 'plt.png'\n",
    "}"
   ]
  },
  {
   "cell_type": "code",
   "execution_count": 61,
   "id": "776fde50-926b-4c1b-9285-8ff120f5e3be",
   "metadata": {},
   "outputs": [
    {
     "data": {
      "image/png": "[encoded data removed]",
      "text/plain": [
       "<Figure size 640x480 with 1 Axes>"
      ]
     },
     "metadata": {},
     "output_type": "display_data"
    }
   ],
   "source": [
    "eval_utility.plot_training(**plot_training_params)"
   ]
  },
  {
   "cell_type": "code",
   "execution_count": 62,
   "id": "e1d265a9-2bb1-4c7e-8206-7b16264bf0cd",
   "metadata": {},
   "outputs": [],
   "source": [
    "eval_instance_params = {\n",
    "    'A': next(iter(valid_dataloader))[0],\n",
    "    'model': model,\n",
    "    'ind': 0,\n",
    "    'size': Config.mat_size,\n",
    "    'batch_size': Config.batch_size,\n",
    "    'device': device,\n",
    "    'criterion': criterion,\n",
    "    'file_path': 'ex_3.png'\n",
    "}"
   ]
  },
  {
   "cell_type": "code",
   "execution_count": 63,
   "id": "f605beb2-2ef2-4d8b-8b0c-b8133c317c0f",
   "metadata": {},
   "outputs": [
    {
     "name": "stdout",
     "output_type": "stream",
     "text": [
      "Loss: 1.1413531303405762\n",
      "Inner DET: 0.18362554907798767\n",
      "Output min: 10.271187782287598\n"
     ]
    },
    {
     "data": {
      "image/png": "[encoded data removed]",
      "text/plain": [
       "<Figure size 1500x500 with 6 Axes>"
      ]
     },
     "metadata": {},
     "output_type": "display_data"
    }
   ],
   "source": [
    "eval_utility.inspect_instance(**eval_instance_params)"
   ]
  },
  {
   "cell_type": "code",
   "execution_count": 77,
   "id": "16c38fda-6ba8-43fa-9c73-b13d0f707102",
   "metadata": {},
   "outputs": [
    {
     "name": "stdout",
     "output_type": "stream",
     "text": [
      "Preconditioned 0.00021649274 0\n",
      "Base 0.0026097847 25\n",
      "Preconditioned wins!\n"
     ]
    }
   ],
   "source": [
    "import torch\n",
    "from scipy.sparse.linalg import LinearOperator, cg, gmres\n",
    "import numpy as np\n",
    "\n",
    "As = next(iter(valid_dataloader))[0].view(32, 25*25).to(device)\n",
    "\n",
    "model.eval()\n",
    "with torch.no_grad():\n",
    "    out = model(As)[0]\n",
    "    \n",
    "A, b = As[0].view(25, 25).cpu().numpy(), torch.randn(25).numpy()\n",
    "P = out.cpu().numpy()\n",
    "\n",
    "# cg for guranteed SPD, gmres else\n",
    "\n",
    "x, info = cg(A, b, M=P, rtol=1e-8, maxiter=25)\n",
    "pnorm = np.linalg.norm(A @ x - b)\n",
    "print('Preconditioned', pnorm, info)\n",
    "\n",
    "x, info = cg(A, b, rtol=1e-8, maxiter=25)\n",
    "bnorm = np.linalg.norm(A @ x - b)\n",
    "print('Base', bnorm, info)\n",
    "\n",
    "print('Preconditioned wins!' if pnorm < bnorm else 'Base Wins!')"
   ]
  },
  {
   "cell_type": "markdown",
   "id": "e16cb0c3-c98e-4483-b0b0-1d36c0e046df",
   "metadata": {},
   "source": [
    "# Model Save/Load\n",
    "\n",
    "Our built in saving functions. They use the standard torch api."
   ]
  },
  {
   "cell_type": "code",
   "execution_count": 21,
   "id": "0460255e-eb2a-4ce5-9fb4-9d314bb96b30",
   "metadata": {},
   "outputs": [],
   "source": [
    "model_utility.save_model(model, Config.file_path)"
   ]
  },
  {
   "cell_type": "code",
   "execution_count": 22,
   "id": "d86f79df-69a6-4539-b4ba-4ae7867b8c1d",
   "metadata": {},
   "outputs": [
    {
     "name": "stderr",
     "output_type": "stream",
     "text": [
      "/data/users/jupyter-dam724/RL/precondition-discovery-contextual-bandit/Model/utility.py:9: FutureWarning: You are using `torch.load` with `weights_only=False` (the current default value), which uses the default pickle module implicitly. It is possible to construct malicious pickle data which will execute arbitrary code during unpickling (See https://github.com/pytorch/pytorch/blob/main/SECURITY.md#untrusted-models for more details). In a future release, the default value for `weights_only` will be flipped to `True`. This limits the functions that could be executed during unpickling. Arbitrary objects will no longer be allowed to be loaded via this mode unless they are explicitly allowlisted by the user via `torch.serialization.add_safe_globals`. We recommend you start setting `weights_only=True` for any use case where you don't have full control of the loaded file. Please open an issue on GitHub for any issues related to this experimental feature.\n",
      "  model.load_state_dict(torch.load(state_dict_path))\n"
     ]
    }
   ],
   "source": [
    "model_utility.load_model(model, Config.file_path)"
   ]
  },
  {
   "cell_type": "markdown",
   "id": "fb7f5874-9378-4315-8f4d-15ef5fcb1898",
   "metadata": {},
   "source": [
    "# Training Logs Save/Load\n",
    "\n",
    "Built in saving/loading functions for training statistics. We use the standard numpy api."
   ]
  },
  {
   "cell_type": "code",
   "execution_count": 23,
   "id": "25f7a84b-463c-46a1-be05-3559fb8b226d",
   "metadata": {},
   "outputs": [
    {
     "name": "stdout",
     "output_type": "stream",
     "text": [
      "Logs saved to: /data/users/jupyter-dam724/RL/precondition-discovery-contextual-bandit/RUNS/logs.npz\n"
     ]
    }
   ],
   "source": [
    "eval_utility.save_logs(train_log, valid_log, Config.log_path)"
   ]
  },
  {
   "cell_type": "code",
   "execution_count": 24,
   "id": "1c59e622-526d-4c6c-8d05-e7d54d5d51bc",
   "metadata": {},
   "outputs": [
    {
     "name": "stdout",
     "output_type": "stream",
     "text": [
      "Logs read from: /data/users/jupyter-dam724/RL/precondition-discovery-contextual-bandit/RUNS/logs.npz\n"
     ]
    }
   ],
   "source": [
    "train_log, valid_log = eval_utility.read_logs(Config.log_path)"
   ]
  },
  {
   "cell_type": "markdown",
   "id": "4569719b-8f89-45eb-a8b8-b7f9a7212c3a",
   "metadata": {},
   "source": [
    "# Traditional Preconditioners\n",
    "\n",
    "An optional section that can be utilized to view the output of traditional preconditioning techniques."
   ]
  },
  {
   "cell_type": "code",
   "execution_count": 9,
   "id": "93147839-d08e-41d9-bde7-a56ccb3db49e",
   "metadata": {},
   "outputs": [],
   "source": [
    "import numpy as np"
   ]
  },
  {
   "cell_type": "code",
   "execution_count": 10,
   "id": "c8941a54-583b-42a6-88af-47c88c877d37",
   "metadata": {},
   "outputs": [],
   "source": [
    "data = next(iter(valid_dataloader))[0].numpy()\n",
    "ind = 0"
   ]
  },
  {
   "cell_type": "code",
   "execution_count": 11,
   "id": "8ecaca77-316a-4bce-a21a-7df5a364ba86",
   "metadata": {},
   "outputs": [],
   "source": [
    "trad_precond_params = {\n",
    "    'batch_matrix': data, \n",
    "    'ind': ind, \n",
    "    'fill_factor': 1, \n",
    "    'max_levels': 1, \n",
    "    'strength': 'classical'\n",
    "}"
   ]
  },
  {
   "cell_type": "markdown",
   "id": "6db0fc96-41e1-455d-b7bf-6dca64cbfd80",
   "metadata": {},
   "source": [
    "The preconditioners converge on the block diagonal but is there any other patterning. It also looks like these have a strong main diagonal but the learned representation from the model has a weak diagonal."
   ]
  },
  {
   "cell_type": "code",
   "execution_count": 13,
   "id": "8c2fbacf-fab3-448f-a8a9-963c21c53bc6",
   "metadata": {},
   "outputs": [
    {
     "data": {
      "image/png": "[encoded data removed]",
      "text/plain": [
       "<Figure size 1500x500 with 6 Axes>"
      ]
     },
     "metadata": {},
     "output_type": "display_data"
    }
   ],
   "source": [
    "jac, ilu, amg = scipy.get_traditional_preconditioners(**trad_precond_params)"
   ]
  },
  {
   "cell_type": "code",
   "execution_count": 19,
   "id": "cb598a88-ac6e-420d-b9bb-942a143a2829",
   "metadata": {},
   "outputs": [
    {
     "name": "stdout",
     "output_type": "stream",
     "text": [
      "Condition: 12747.302244633209\n",
      "Condition: 12947.11173626841\n",
      "Condition: 10640.796906837086\n",
      "Condition: 25.0\n"
     ]
    },
    {
     "data": {
      "text/plain": [
       "20.54666153268241"
      ]
     },
     "execution_count": 19,
     "metadata": {},
     "output_type": "execute_result"
    }
   ],
   "source": [
    "scipy.check_conditioning(data, np.eye(25), 0)\n",
    "scipy.check_conditioning(data, jac, 0)\n",
    "scipy.check_conditioning(data, ilu, 0) \n",
    "scipy.check_conditioning(data, amg, 0)\n",
    "(10640.796906837086 / 12947.11173626841) * 25"
   ]
  },
  {
   "cell_type": "markdown",
   "id": "da556038-3c77-441e-8343-86ec84889f88",
   "metadata": {},
   "source": [
    "# Torch Conjugate Gradient\n",
    "\n",
    "Using library to do batched conjugate gradient for conjugate gradient."
   ]
  },
  {
   "cell_type": "code",
   "execution_count": 65,
   "id": "cc12bb2f-d129-4914-98f4-c3296f82cf2b",
   "metadata": {},
   "outputs": [],
   "source": [
    "from torch_cg.torch_cg import cg_batch"
   ]
  },
  {
   "cell_type": "code",
   "execution_count": 66,
   "id": "23706f23-fded-4a8c-89a1-d9215ec3309d",
   "metadata": {},
   "outputs": [],
   "source": [
    "A, b = next(iter(valid_dataloader)) \n",
    "A = A.to(device)\n",
    "out = model(A.view(Config.batch_size, Config.mat_size * Config.mat_size)).view(Config.batch_size, Config.mat_size, Config.mat_size)\n",
    "A, out = A.cpu(), out.detach().cpu()"
   ]
  },
  {
   "cell_type": "code",
   "execution_count": 67,
   "id": "3b7237d5-cf78-4efc-9156-cb6e50ae9909",
   "metadata": {},
   "outputs": [
    {
     "name": "stdout",
     "output_type": "stream",
     "text": [
      " it |       dist   it/s\n",
      "001 | 1.6902e+00 184.25\n",
      "002 | 6.4992e-01 1899.03\n",
      "003 | 1.7067e-01 1118.77\n",
      "004 | 5.8453e-02 2564.67\n",
      "005 | 1.2798e-02 2453.54\n",
      "006 | 5.2227e-04 2591.05\n",
      "007 | -2.7950e-03 2651.95\n",
      "Terminated in 7 steps (reached maxiter). Took 9.733 ms.\n"
     ]
    }
   ],
   "source": [
    "b = torch.randn(32, 25, 1)\n",
    "\n",
    "xs = cg_batch(lambda x: torch.matmul(A, x), b, lambda x: torch.matmul(out, x), maxiter=25, verbose=True)"
   ]
  }
 ],
 "metadata": {
  "kernelspec": {
   "display_name": "Python 3 (ipykernel)",
   "language": "python",
   "name": "python3"
  },
  "language_info": {
   "codemirror_mode": {
    "name": "ipython",
    "version": 3
   },
   "file_extension": ".py",
   "mimetype": "text/x-python",
   "name": "python",
   "nbconvert_exporter": "python",
   "pygments_lexer": "ipython3",
   "version": "3.9.7"
  }
 },
 "nbformat": 4,
 "nbformat_minor": 5
}
