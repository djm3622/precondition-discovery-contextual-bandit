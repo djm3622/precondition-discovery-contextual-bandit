{
 "cells": [
  {
   "cell_type": "markdown",
   "id": "5214785b-d442-4bc0-803f-6e1cc966d7f4",
   "metadata": {},
   "source": [
    "# Summary\n",
    "\n",
    "This notebook provides a breath of all the features offered in the project. "
   ]
  },
  {
   "cell_type": "markdown",
   "id": "9deb6846-340a-4de1-88d3-ca46472fbe0c",
   "metadata": {},
   "source": [
    "# Imports/Setup"
   ]
  },
  {
   "cell_type": "code",
   "execution_count": 1,
   "id": "ee3f0489-31df-4d50-9265-1b60552edc09",
   "metadata": {},
   "outputs": [
    {
     "name": "stderr",
     "output_type": "stream",
     "text": [
      "/data/users/jupyter-dam724/.local/lib/python3.9/site-packages/torch_geometric/typing.py:68: UserWarning: An issue occurred while importing 'pyg-lib'. Disabling its usage. Stacktrace: /data/users/jupyter-dam724/.local/lib/python3.9/site-packages/libpyg.so: undefined symbol: _ZN3c1010Dispatcher17runRecordFunctionERN2at14RecordFunctionESt17reference_wrapperIKNS_14FunctionSchemaEENS_11DispatchKeyE\n",
      "  warnings.warn(f\"An issue occurred while importing 'pyg-lib'. \"\n",
      "/data/users/jupyter-dam724/.local/lib/python3.9/site-packages/torch_geometric/typing.py:97: UserWarning: An issue occurred while importing 'torch-cluster'. Disabling its usage. Stacktrace: /data/users/jupyter-dam724/.local/lib/python3.9/site-packages/torch_cluster/_version_cuda.so: undefined symbol: _ZN5torch3jit17parseSchemaOrNameERKSs\n",
      "  warnings.warn(f\"An issue occurred while importing 'torch-cluster'. \"\n",
      "/data/users/jupyter-dam724/.local/lib/python3.9/site-packages/torch_geometric/typing.py:113: UserWarning: An issue occurred while importing 'torch-spline-conv'. Disabling its usage. Stacktrace: /data/users/jupyter-dam724/.local/lib/python3.9/site-packages/torch_spline_conv/_version_cuda.so: undefined symbol: _ZN5torch3jit17parseSchemaOrNameERKSs\n",
      "  warnings.warn(\n",
      "/data/users/jupyter-dam724/.local/lib/python3.9/site-packages/torch_geometric/typing.py:124: UserWarning: An issue occurred while importing 'torch-sparse'. Disabling its usage. Stacktrace: /data/users/jupyter-dam724/.local/lib/python3.9/site-packages/torch_sparse/_version_cuda.so: undefined symbol: _ZN5torch3jit17parseSchemaOrNameERKSs\n",
      "  warnings.warn(f\"An issue occurred while importing 'torch-sparse'. \"\n"
     ]
    }
   ],
   "source": [
    "from Data import dataset, generator\n",
    "from Data import utility as data_utility\n",
    "from Evaluation import utility as eval_utility\n",
    "from Model import linear, scipy\n",
    "from Model import utility as model_utility\n",
    "from Objectives import losses"
   ]
  },
  {
   "cell_type": "markdown",
   "id": "24f8b911-c9fc-405a-bdd9-9ff52595cfa7",
   "metadata": {},
   "source": [
    "This configuration class is the central control for the training process."
   ]
  },
  {
   "cell_type": "code",
   "execution_count": 2,
   "id": "0e9ede6f-6c31-48e1-be95-1672ece789a5",
   "metadata": {},
   "outputs": [],
   "source": [
    "class Config:\n",
    "    # dataset\n",
    "    batch_size = 32\n",
    "    gen_size = 5\n",
    "    mat_size = 5**2\n",
    "    seed = 42\n",
    "    \n",
    "    # dataloader\n",
    "    train_len = 1000\n",
    "    valid_len = 100\n",
    "    shuffle = True\n",
    "    \n",
    "    # device\n",
    "    device_pref = 'cuda'\n",
    "    device_ind = 1\n",
    "    \n",
    "    # model\n",
    "    hidden = 128 # 128 for LU (it doubles the amount of layers) | 512 for NID it has larger output same layers | 256 else\n",
    "    sparse_tol = 1e-5\n",
    "    diagonal_bias = 0.1\n",
    "    \n",
    "    # loss\n",
    "    l1 =  0\n",
    "    inv = 0\n",
    "    dev = 0\n",
    "    cond = 1.0\n",
    "    \n",
    "    # training\n",
    "    epoches = 100\n",
    "    lr = 1e-5\n",
    "    verbose = False\n",
    "    file_path = '/data/users/jupyter-dam724/RL/precondition-discovery-contextual-bandit/RUNS/testing_2.pth'\n",
    "    \n",
    "    # model save/load\n",
    "    file_path = '/data/users/jupyter-dam724/RL/precondition-discovery-contextual-bandit/RUNS/testing_2.pth'\n",
    "    \n",
    "    # train save/load\n",
    "    log_path = '/data/users/jupyter-dam724/RL/precondition-discovery-contextual-bandit/RUNS/logs_2.npz'"
   ]
  },
  {
   "cell_type": "markdown",
   "id": "41cba0b2-b893-494f-812b-5785e47e5ec4",
   "metadata": {},
   "source": [
    "# Dataset/Dataloader\n",
    "\n",
    "There are two different provided test cases, one SPD and the other NID."
   ]
  },
  {
   "cell_type": "code",
   "execution_count": 3,
   "id": "db08bce0-ab06-4446-b236-f56b839f609a",
   "metadata": {},
   "outputs": [],
   "source": [
    "train_dataset_params = {\n",
    "    'generator': generator.generate_2d_diffusion_spd,\n",
    "    'norm_feat': data_utility.normalize_features,\n",
    "    'epoch_len': Config.train_len,\n",
    "    'batch_size': Config.batch_size,\n",
    "    'size': Config.gen_size\n",
    "}\n",
    "\n",
    "valid_dataset_params = {\n",
    "    'generator': generator.generate_2d_diffusion_spd,\n",
    "    'norm_feat': data_utility.normalize_features,\n",
    "    'epoch_len': Config.valid_len,\n",
    "    'batch_size': Config.batch_size,\n",
    "    'size': Config.gen_size\n",
    "}"
   ]
  },
  {
   "cell_type": "code",
   "execution_count": 4,
   "id": "cd6ce842-809f-4bfb-a5b0-26d4e4287597",
   "metadata": {},
   "outputs": [],
   "source": [
    "train_dataset = dataset.SystemDataset(**train_dataset_params)\n",
    "valid_dataset = dataset.SystemDataset(**valid_dataset_params)"
   ]
  },
  {
   "cell_type": "code",
   "execution_count": 5,
   "id": "457018a4-bf6a-4e44-85e8-f2bba294dc13",
   "metadata": {},
   "outputs": [],
   "source": [
    "train_dataloader_params = {\n",
    "    'dataset': train_dataset,\n",
    "    'batch_size': Config.batch_size,\n",
    "    'shuffle': Config.shuffle\n",
    "}\n",
    "\n",
    "valid_dataloader_params = {\n",
    "    'dataset': valid_dataset,\n",
    "    'batch_size': Config.batch_size,\n",
    "    'shuffle': Config.shuffle\n",
    "}"
   ]
  },
  {
   "cell_type": "code",
   "execution_count": 6,
   "id": "cb2d39c1-bf44-4537-9217-2db1d7f40f74",
   "metadata": {},
   "outputs": [],
   "source": [
    "train_dataloader = dataset.get_dataloader(**train_dataloader_params)\n",
    "valid_dataloader = dataset.get_dataloader(**valid_dataloader_params)"
   ]
  },
  {
   "cell_type": "code",
   "execution_count": 7,
   "id": "a699093b-8bfe-4fb0-b29a-6c65e0ccc4a8",
   "metadata": {},
   "outputs": [],
   "source": [
    "A, b = next(iter(train_dataloader))"
   ]
  },
  {
   "cell_type": "code",
   "execution_count": 10,
   "id": "790592ca-3c9a-4361-8842-b6b2a2ffe511",
   "metadata": {},
   "outputs": [
    {
     "name": "stdout",
     "output_type": "stream",
     "text": [
      "Determinent: 1201290240.0\n",
      "Matrix is non-singular.\n",
      "Condition: 5418.88037109375\n",
      "SPD\n"
     ]
    },
    {
     "data": {
      "image/png": "[encoded data removed]",
      "text/plain": [
       "<Figure size 480x480 with 1 Axes>"
      ]
     },
     "metadata": {},
     "output_type": "display_data"
    }
   ],
   "source": [
    "ind = 0\n",
    "data_utility.check_singularity(A, ind)\n",
    "data_utility.check_conditioning(A, ind)\n",
    "data_utility.view_matrix(A, ind)\n",
    "print('SPD') if data_utility.is_spd(A, ind) else print('Non-SPD')"
   ]
  },
  {
   "cell_type": "markdown",
   "id": "0ee2a0c8-0db8-4248-9b70-df8048e81474",
   "metadata": {},
   "source": [
    "# Device\n",
    "\n",
    "Gather the device."
   ]
  },
  {
   "cell_type": "code",
   "execution_count": 11,
   "id": "d2250f60-4c70-47be-b76c-65f08d8037d6",
   "metadata": {},
   "outputs": [],
   "source": [
    "device_params = {\n",
    "    'device_pref': Config.device_pref,\n",
    "    'ind_dev': Config.device_ind\n",
    "}"
   ]
  },
  {
   "cell_type": "code",
   "execution_count": 12,
   "id": "ca275a22-798e-4fbb-82d3-9a7d0bd50ee1",
   "metadata": {},
   "outputs": [
    {
     "name": "stdout",
     "output_type": "stream",
     "text": [
      "Now using GPU.\n"
     ]
    }
   ],
   "source": [
    "device = data_utility.set_device(**device_params)"
   ]
  },
  {
   "cell_type": "markdown",
   "id": "408b9b0c-b05f-421a-bf9c-27f745e4e168",
   "metadata": {},
   "source": [
    "# Model\n",
    "\n",
    "The primary driver is a linear model. Our setup allows for easy swappout as long as the model ouputs a batch of preconditioners."
   ]
  },
  {
   "cell_type": "code",
   "execution_count": 13,
   "id": "7ce0e74f-6582-4c03-a9c2-97a4ab8a8c72",
   "metadata": {},
   "outputs": [],
   "source": [
    "model_params = {\n",
    "    'n':Config.mat_size,\n",
    "    'hidden':Config.hidden,\n",
    "    'batch_size':Config.batch_size,\n",
    "    'sparse_tol':Config.sparse_tol,\n",
    "    'diagonal_bias':Config.diagonal_bias\n",
    "}"
   ]
  },
  {
   "cell_type": "code",
   "execution_count": 14,
   "id": "0f351466-cb77-4fcd-96b2-4a72e24e2736",
   "metadata": {},
   "outputs": [],
   "source": [
    "model = linear.LuFCN(**model_params).to(device)"
   ]
  },
  {
   "cell_type": "markdown",
   "id": "914686d4-b868-45b5-9f73-cf6ad0f5d345",
   "metadata": {},
   "source": [
    "# Loss Function\n",
    "\n",
    "We use loss function that combines many different objective functions. This can easy be swapped out for faster and most stable training but we use this primarily for use in the hyperparameter tuning phase."
   ]
  },
  {
   "cell_type": "code",
   "execution_count": 15,
   "id": "9ced5c6f-153b-4ffa-8f79-a8823d48e66b",
   "metadata": {},
   "outputs": [],
   "source": [
    "loss_params = {\n",
    "    'l1': Config.l1,\n",
    "    'inv': Config.inv,\n",
    "    'dev': Config.dev,\n",
    "    'cond': Config.cond,\n",
    "    'batch_size': Config.batch_size,\n",
    "    'size': Config.mat_size\n",
    "}"
   ]
  },
  {
   "cell_type": "code",
   "execution_count": 16,
   "id": "5dc02c95-59de-49a3-87a8-6c42ea76f369",
   "metadata": {},
   "outputs": [],
   "source": [
    "criterion = losses.CondEyeDistance(**loss_params)"
   ]
  },
  {
   "cell_type": "markdown",
   "id": "a6855da2-102c-496f-ab13-60de93cc08a6",
   "metadata": {},
   "source": [
    "# Training\n",
    "\n",
    "The training block. We also gather training results."
   ]
  },
  {
   "cell_type": "code",
   "execution_count": 17,
   "id": "6a35ed7a-e9f3-4e20-b16d-0afec887b457",
   "metadata": {},
   "outputs": [],
   "source": [
    "training_params = {\n",
    "    'epoches': Config.epoches,\n",
    "    'criterion': criterion,\n",
    "    'train_loader': train_dataloader,\n",
    "    'valid_loader': valid_dataloader,\n",
    "    'model': model,\n",
    "    'lr': Config.lr,\n",
    "    'size': Config.mat_size,\n",
    "    'batch_size': Config.batch_size,\n",
    "    'device': device,\n",
    "    'verbose': Config.verbose,\n",
    "    'file_path': Config.file_path\n",
    "}"
   ]
  },
  {
   "cell_type": "code",
   "execution_count": 42,
   "id": "b51229ca-ff39-4f70-ac56-0aeed94e0d97",
   "metadata": {
    "scrolled": true,
    "tags": []
   },
   "outputs": [
    {
     "name": "stdout",
     "output_type": "stream",
     "text": [
      "Epoch: 0, Train: 6.007540770053864, Valid: 3.704412338733673\n",
      "Epoch: 1, Train: 3.0752861008644103, Valid: 2.6564652562141418\n",
      "Epoch: 2, Train: 2.4281089041233064, Valid: 2.2073038101196287\n",
      "Epoch: 3, Train: 2.086027591109276, Valid: 1.9475414478778839\n",
      "Epoch: 4, Train: 1.8831199016571045, Valid: 1.85662140250206\n",
      "Epoch: 5, Train: 1.751909101486206, Valid: 1.7504653358459472\n",
      "Epoch: 6, Train: 1.6740047751665115, Valid: 1.6286305153369904\n",
      "Epoch: 7, Train: 1.6170119005441665, Valid: 1.5841882407665253\n",
      "Epoch: 8, Train: 1.5779209926128388, Valid: 1.548000328540802\n",
      "Epoch: 9, Train: 1.5538137819766997, Valid: 1.5434745097160338\n",
      "Epoch: 10, Train: 1.5214005925655365, Valid: 1.490867373943329\n",
      "Epoch: 11, Train: 1.5060529861450196, Valid: 1.4754192018508911\n",
      "Epoch: 12, Train: 1.4976835114955902, Valid: 1.5238591194152833\n",
      "Epoch: 13, Train: 1.4838206858634948, Valid: 1.4593875527381897\n",
      "Epoch: 14, Train: 1.4756577138900757, Valid: 1.4507462656497956\n",
      "Epoch: 15, Train: 1.4513356544971465, Valid: 1.4462056648731232\n",
      "Epoch: 16, Train: 1.4540213745832444, Valid: 1.5110420501232147\n",
      "Epoch: 17, Train: 1.4434039280414581, Valid: 1.392280069589615\n",
      "Epoch: 18, Train: 1.4274444802999497, Valid: 1.3847866892814635\n",
      "Epoch: 19, Train: 1.425486750125885, Valid: 1.4511992597579957\n",
      "Epoch: 20, Train: 1.4018509266376495, Valid: 1.368276504278183\n",
      "Epoch: 21, Train: 1.4259545577764512, Valid: 1.3657945966720582\n",
      "Epoch: 22, Train: 1.385770700097084, Valid: 1.3592719864845275\n",
      "Epoch: 23, Train: 1.401614102602005, Valid: 1.488132609128952\n",
      "Epoch: 24, Train: 1.3855486222505569, Valid: 1.3799259912967683\n",
      "Epoch: 25, Train: 1.365681204557419, Valid: 1.3556764864921569\n",
      "Epoch: 26, Train: 1.3625556964874268, Valid: 1.4237114000320434\n",
      "Epoch: 27, Train: 1.3091769279241563, Valid: 1.312763524055481\n",
      "Epoch: 28, Train: 1.3069456057548523, Valid: 1.3020963490009307\n",
      "Epoch: 29, Train: 1.3068176490068435, Valid: 1.3080320012569429\n",
      "Epoch: 30, Train: 1.3076080508232117, Valid: 1.3090007841587066\n",
      "Epoch: 31, Train: 1.302980020046234, Valid: 1.3014438807964326\n",
      "Epoch: 32, Train: 1.3051259286403656, Valid: 1.3049833571910858\n",
      "Epoch: 33, Train: 1.2983239717483521, Valid: 1.3010266077518464\n",
      "Epoch: 34, Train: 1.2963779966831208, Valid: 1.2949130213260651\n",
      "Epoch: 35, Train: 1.296074733376503, Valid: 1.3040338718891145\n",
      "Epoch: 36, Train: 1.2940368195772172, Valid: 1.2980722093582153\n",
      "Epoch: 37, Train: 1.2953382000923157, Valid: 1.2929583609104156\n",
      "Epoch: 38, Train: 1.2937181346416473, Valid: 1.2977305662631988\n",
      "Epoch: 39, Train: 1.2918569760322571, Valid: 1.2893984818458557\n",
      "Epoch: 40, Train: 1.2926522841453552, Valid: 1.287871502637863\n",
      "Epoch: 41, Train: 1.2940777548551559, Valid: 1.2899483108520509\n",
      "Epoch: 42, Train: 1.2937907643318176, Valid: 1.2868422448635102\n",
      "Epoch: 43, Train: 1.294249039888382, Valid: 1.2920238626003266\n",
      "Epoch: 44, Train: 1.2936229065656661, Valid: 1.2967846965789795\n",
      "Epoch: 45, Train: 1.2917971813678741, Valid: 1.2916440188884735\n",
      "Epoch: 46, Train: 1.2930831001996994, Valid: 1.2933375442028046\n",
      "Epoch: 47, Train: 1.290318481683731, Valid: 1.2989634680747986\n",
      "Epoch: 48, Train: 1.2929939382076263, Valid: 1.3004751682281495\n",
      "Epoch: 49, Train: 1.292209557890892, Valid: 1.2942976331710816\n",
      "Epoch: 50, Train: 1.293743978857994, Valid: 1.2958695518970489\n",
      "Epoch: 51, Train: 1.2936876907348633, Valid: 1.3062294828891754\n",
      "Epoch: 52, Train: 1.2898738770484923, Valid: 1.2936934292316438\n",
      "Epoch: 53, Train: 1.2924883375167846, Valid: 1.2949979972839356\n",
      "Epoch: 54, Train: 1.2974357112646102, Valid: 1.2945749545097351\n",
      "Epoch: 55, Train: 1.2935097781419753, Valid: 1.2850570225715636\n",
      "Epoch: 56, Train: 1.2929023934602737, Valid: 1.2912285900115967\n",
      "Epoch: 57, Train: 1.292660405755043, Valid: 1.2910710108280181\n",
      "Epoch: 58, Train: 1.2933001656532288, Valid: 1.2894819402694702\n",
      "Epoch: 59, Train: 1.2915898571014404, Valid: 1.2955901730060577\n",
      "Epoch: 60, Train: 1.2934554959535598, Valid: 1.2914250671863556\n",
      "Epoch: 61, Train: 1.2923119621276855, Valid: 1.2918327569961547\n",
      "Epoch: 62, Train: 1.2907407290935515, Valid: 1.292808403968811\n",
      "Epoch: 63, Train: 1.2894859591722487, Valid: 1.284252053499222\n",
      "Epoch: 64, Train: 1.2920385104417802, Valid: 1.2938707959651947\n",
      "Epoch: 65, Train: 1.2931639021635055, Valid: 1.3001835787296294\n",
      "Epoch: 66, Train: 1.2902522859573364, Valid: 1.2886121141910554\n",
      "Epoch: 67, Train: 1.2887508767843245, Valid: 1.2897662365436553\n",
      "Epoch: 68, Train: 1.295745671272278, Valid: 1.2981840300559997\n",
      "Epoch: 69, Train: 1.2908945511579513, Valid: 1.3024007523059844\n",
      "Epoch: 70, Train: 1.2930455478429794, Valid: 1.293069633245468\n",
      "Epoch: 71, Train: 1.2900807371139527, Valid: 1.2980393278598785\n",
      "Epoch: 72, Train: 1.2908588100671767, Valid: 1.2885777854919434\n",
      "Epoch: 73, Train: 1.2921908849477768, Valid: 1.2938725566864013\n",
      "Epoch: 74, Train: 1.2923899590969086, Valid: 1.2885793244838715\n",
      "Epoch: 75, Train: 1.292662242412567, Valid: 1.2803856420516968\n",
      "Epoch: 76, Train: 1.2917302404642106, Valid: 1.2852696669101715\n",
      "Epoch: 77, Train: 1.2918517599105834, Valid: 1.2964557909965515\n",
      "Epoch: 78, Train: 1.2901576364040375, Valid: 1.2914826595783233\n",
      "Epoch: 79, Train: 1.2915709737539292, Valid: 1.2933868408203124\n",
      "Epoch: 80, Train: 1.292848524570465, Valid: 1.2847756278514861\n",
      "Epoch: 81, Train: 1.2929034490585327, Valid: 1.2829593133926391\n",
      "Epoch: 82, Train: 1.2933064371347427, Valid: 1.293970569372177\n",
      "Epoch: 83, Train: 1.2909643944501876, Valid: 1.286565705537796\n",
      "Epoch: 84, Train: 1.2895727165937423, Valid: 1.2976817440986634\n",
      "Epoch: 85, Train: 1.2918519133329391, Valid: 1.2915715074539185\n",
      "Epoch: 86, Train: 1.2905240633487702, Valid: 1.2940622806549071\n",
      "Epoch: 87, Train: 1.291489442706108, Valid: 1.2849660694599152\n",
      "Epoch: 88, Train: 1.2922601846456527, Valid: 1.285079755783081\n",
      "Epoch: 89, Train: 1.2940157325267791, Valid: 1.2972509121894837\n",
      "Epoch: 90, Train: 1.29118641269207, Valid: 1.2821919989585877\n",
      "Epoch: 91, Train: 1.2900598318576812, Valid: 1.2943480443954467\n",
      "Epoch: 92, Train: 1.2915735754966735, Valid: 1.305554291009903\n",
      "Epoch: 93, Train: 1.291537629365921, Valid: 1.297237023115158\n",
      "Epoch: 94, Train: 1.2912702935934066, Valid: 1.289129468202591\n",
      "Epoch: 95, Train: 1.2962340059280395, Valid: 1.2916332328319549\n",
      "Epoch: 96, Train: 1.2939784252643585, Valid: 1.2898085820674896\n",
      "Epoch: 97, Train: 1.2908011584281922, Valid: 1.2782304096221924\n",
      "Epoch: 98, Train: 1.2888397099971771, Valid: 1.292239774465561\n",
      "Epoch: 99, Train: 1.2906209790706635, Valid: 1.2937100100517274\n"
     ]
    }
   ],
   "source": [
    "train_log, valid_log = model_utility.shared_training_loop(**training_params)"
   ]
  },
  {
   "cell_type": "markdown",
   "id": "337e7480-b727-4e9a-8c1d-c91f9ae1577e",
   "metadata": {},
   "source": [
    "# Evaluation\n",
    "\n",
    "We provide many quantitative and qualitative outlets to assess training strength."
   ]
  },
  {
   "cell_type": "code",
   "execution_count": 43,
   "id": "fdc2f2fd-19d8-4914-90f9-3c888f73a3a5",
   "metadata": {},
   "outputs": [],
   "source": [
    "plot_training_params = {\n",
    "    'train_log': train_log,\n",
    "    'valid_log': valid_log,\n",
    "    'title': 'EX', \n",
    "    'file_path': 'plt.png'\n",
    "}"
   ]
  },
  {
   "cell_type": "code",
   "execution_count": 44,
   "id": "776fde50-926b-4c1b-9285-8ff120f5e3be",
   "metadata": {},
   "outputs": [
    {
     "data": {
      "image/png": "[encoded data removed]",
      "text/plain": [
       "<Figure size 640x480 with 1 Axes>"
      ]
     },
     "metadata": {},
     "output_type": "display_data"
    }
   ],
   "source": [
    "eval_utility.plot_training(**plot_training_params)"
   ]
  },
  {
   "cell_type": "code",
   "execution_count": 45,
   "id": "e1d265a9-2bb1-4c7e-8206-7b16264bf0cd",
   "metadata": {},
   "outputs": [],
   "source": [
    "eval_instance_params = {\n",
    "    'A': next(iter(valid_dataloader))[0],\n",
    "    'model': model,\n",
    "    'ind': 0,\n",
    "    'size': Config.mat_size,\n",
    "    'batch_size': Config.batch_size,\n",
    "    'device': device,\n",
    "    'criterion': criterion,\n",
    "    'file_path': 'ex_3.png'\n",
    "}"
   ]
  },
  {
   "cell_type": "code",
   "execution_count": 46,
   "id": "f605beb2-2ef2-4d8b-8b0c-b8133c317c0f",
   "metadata": {},
   "outputs": [
    {
     "name": "stdout",
     "output_type": "stream",
     "text": [
      "Loss: 1.2808467149734497\n",
      "Inner DET: 2.9807081247668066e-09\n",
      "Output min: -10.600137710571289\n"
     ]
    },
    {
     "data": {
      "image/png": "[encoded data removed]",
      "text/plain": [
       "<Figure size 1500x500 with 6 Axes>"
      ]
     },
     "metadata": {},
     "output_type": "display_data"
    }
   ],
   "source": [
    "eval_utility.inspect_instance(**eval_instance_params)"
   ]
  },
  {
   "cell_type": "code",
   "execution_count": 52,
   "id": "16c38fda-6ba8-43fa-9c73-b13d0f707102",
   "metadata": {},
   "outputs": [
    {
     "name": "stdout",
     "output_type": "stream",
     "text": [
      "Preconditioned 0.013709782 25\n",
      "Base 7.853195e-05 25\n",
      "Base Wins!\n"
     ]
    }
   ],
   "source": [
    "import torch\n",
    "from scipy.sparse.linalg import LinearOperator, cg, gmres\n",
    "import numpy as np\n",
    "\n",
    "As = next(iter(valid_dataloader))[0].view(32, 25*25).to(device)\n",
    "\n",
    "model.eval()\n",
    "with torch.no_grad():\n",
    "    out = model(As)[0]\n",
    "    \n",
    "A, b = As[0].view(25, 25).cpu().numpy(), torch.randn(25).numpy()\n",
    "P = out.cpu().numpy()\n",
    "\n",
    "# cg for guranteed SPD, gmres else\n",
    "\n",
    "x, info = gmres(A, b, M=P, rtol=1e-8, maxiter=25)\n",
    "pnorm = np.linalg.norm(A @ x - b)\n",
    "print('Preconditioned', pnorm, info)\n",
    "\n",
    "x, info = gmres(A, b, rtol=1e-8, maxiter=25)\n",
    "bnorm = np.linalg.norm(A @ x - b)\n",
    "print('Base', bnorm, info)\n",
    "\n",
    "print('Preconditioned wins!' if pnorm < bnorm else 'Base Wins!')"
   ]
  },
  {
   "cell_type": "markdown",
   "id": "e16cb0c3-c98e-4483-b0b0-1d36c0e046df",
   "metadata": {},
   "source": [
    "# Model Save/Load\n",
    "\n",
    "Our built in saving functions. They use the standard torch api."
   ]
  },
  {
   "cell_type": "code",
   "execution_count": 21,
   "id": "0460255e-eb2a-4ce5-9fb4-9d314bb96b30",
   "metadata": {},
   "outputs": [],
   "source": [
    "model_utility.save_model(model, Config.file_path)"
   ]
  },
  {
   "cell_type": "code",
   "execution_count": 22,
   "id": "d86f79df-69a6-4539-b4ba-4ae7867b8c1d",
   "metadata": {},
   "outputs": [
    {
     "name": "stderr",
     "output_type": "stream",
     "text": [
      "/data/users/jupyter-dam724/RL/precondition-discovery-contextual-bandit/Model/utility.py:9: FutureWarning: You are using `torch.load` with `weights_only=False` (the current default value), which uses the default pickle module implicitly. It is possible to construct malicious pickle data which will execute arbitrary code during unpickling (See https://github.com/pytorch/pytorch/blob/main/SECURITY.md#untrusted-models for more details). In a future release, the default value for `weights_only` will be flipped to `True`. This limits the functions that could be executed during unpickling. Arbitrary objects will no longer be allowed to be loaded via this mode unless they are explicitly allowlisted by the user via `torch.serialization.add_safe_globals`. We recommend you start setting `weights_only=True` for any use case where you don't have full control of the loaded file. Please open an issue on GitHub for any issues related to this experimental feature.\n",
      "  model.load_state_dict(torch.load(state_dict_path))\n"
     ]
    }
   ],
   "source": [
    "model_utility.load_model(model, Config.file_path)"
   ]
  },
  {
   "cell_type": "markdown",
   "id": "fb7f5874-9378-4315-8f4d-15ef5fcb1898",
   "metadata": {},
   "source": [
    "# Training Logs Save/Load\n",
    "\n",
    "Built in saving/loading functions for training statistics. We use the standard numpy api."
   ]
  },
  {
   "cell_type": "code",
   "execution_count": 23,
   "id": "25f7a84b-463c-46a1-be05-3559fb8b226d",
   "metadata": {},
   "outputs": [
    {
     "name": "stdout",
     "output_type": "stream",
     "text": [
      "Logs saved to: /data/users/jupyter-dam724/RL/precondition-discovery-contextual-bandit/RUNS/logs.npz\n"
     ]
    }
   ],
   "source": [
    "eval_utility.save_logs(train_log, valid_log, Config.log_path)"
   ]
  },
  {
   "cell_type": "code",
   "execution_count": 24,
   "id": "1c59e622-526d-4c6c-8d05-e7d54d5d51bc",
   "metadata": {},
   "outputs": [
    {
     "name": "stdout",
     "output_type": "stream",
     "text": [
      "Logs read from: /data/users/jupyter-dam724/RL/precondition-discovery-contextual-bandit/RUNS/logs.npz\n"
     ]
    }
   ],
   "source": [
    "train_log, valid_log = eval_utility.read_logs(Config.log_path)"
   ]
  },
  {
   "cell_type": "markdown",
   "id": "4569719b-8f89-45eb-a8b8-b7f9a7212c3a",
   "metadata": {},
   "source": [
    "# Traditional Preconditioners\n",
    "\n",
    "An optional section that can be utilized to view the output of traditional preconditioning techniques."
   ]
  },
  {
   "cell_type": "code",
   "execution_count": 25,
   "id": "93147839-d08e-41d9-bde7-a56ccb3db49e",
   "metadata": {},
   "outputs": [],
   "source": [
    "import numpy as np"
   ]
  },
  {
   "cell_type": "code",
   "execution_count": 26,
   "id": "c8941a54-583b-42a6-88af-47c88c877d37",
   "metadata": {},
   "outputs": [],
   "source": [
    "data = next(iter(valid_dataloader))[0].numpy()\n",
    "ind = 0"
   ]
  },
  {
   "cell_type": "code",
   "execution_count": 27,
   "id": "8ecaca77-316a-4bce-a21a-7df5a364ba86",
   "metadata": {},
   "outputs": [],
   "source": [
    "trad_precond_params = {\n",
    "    'batch_matrix': data, \n",
    "    'ind': ind, \n",
    "    'fill_factor': 1, \n",
    "    'max_levels': 10, \n",
    "    'strength': 'classical'\n",
    "}"
   ]
  },
  {
   "cell_type": "markdown",
   "id": "6db0fc96-41e1-455d-b7bf-6dca64cbfd80",
   "metadata": {},
   "source": [
    "The preconditioners converge on the block diagonal but is there any other patterning. It also looks like these have a strong main diagonal but the learned representation from the model has a weak diagonal."
   ]
  },
  {
   "cell_type": "code",
   "execution_count": 28,
   "id": "8c2fbacf-fab3-448f-a8a9-963c21c53bc6",
   "metadata": {},
   "outputs": [
    {
     "name": "stderr",
     "output_type": "stream",
     "text": [
      "/data/users/jupyter-dam724/RL/precondition-discovery-contextual-bandit/Model/scipy.py:16: SparseEfficiencyWarning: spilu converted its input to CSC format\n",
      "  ilu = spla.spilu(A, fill_factor)\n",
      "/data/users/jupyter-dam724/.local/lib/python3.9/site-packages/pyamg/aggregation/aggregation.py:215: SparseEfficiencyWarning: Implicit conversion of A to CSR\n",
      "  warn('Implicit conversion of A to CSR', SparseEfficiencyWarning)\n"
     ]
    },
    {
     "data": {
      "image/png": "[encoded data removed]",
      "text/plain": [
       "<Figure size 1500x500 with 6 Axes>"
      ]
     },
     "metadata": {},
     "output_type": "display_data"
    }
   ],
   "source": [
    "jac, ilu, amg = scipy.get_traditional_preconditioners(**trad_precond_params)"
   ]
  },
  {
   "cell_type": "code",
   "execution_count": 29,
   "id": "cb598a88-ac6e-420d-b9bb-942a143a2829",
   "metadata": {},
   "outputs": [
    {
     "name": "stdout",
     "output_type": "stream",
     "text": [
      "Condition: 11745.455618057402\n",
      "Condition: 11953.201434266472\n",
      "Condition: 6646.172954686495\n",
      "Condition: 25.000000033785227\n"
     ]
    }
   ],
   "source": [
    "scipy.check_conditioning(data, np.eye(25), 0)\n",
    "scipy.check_conditioning(data, jac, 0)\n",
    "scipy.check_conditioning(data, ilu, 0)\n",
    "scipy.check_conditioning(data, amg, 0)"
   ]
  },
  {
   "cell_type": "markdown",
   "id": "da556038-3c77-441e-8343-86ec84889f88",
   "metadata": {},
   "source": [
    "# Torch Conjugate Gradient\n",
    "\n",
    "Using library to do batched conjugate gradient for conjugate gradient."
   ]
  },
  {
   "cell_type": "code",
   "execution_count": 18,
   "id": "cc12bb2f-d129-4914-98f4-c3296f82cf2b",
   "metadata": {},
   "outputs": [],
   "source": [
    "from torch_cg.torch_cg import cg_batch"
   ]
  },
  {
   "cell_type": "code",
   "execution_count": 19,
   "id": "23706f23-fded-4a8c-89a1-d9215ec3309d",
   "metadata": {},
   "outputs": [],
   "source": [
    "A, b = next(iter(valid_dataloader)) \n",
    "A = A.to(device)\n",
    "out = model(A.view(Config.batch_size, Config.mat_size * Config.mat_size)).view(Config.batch_size, Config.mat_size, Config.mat_size)\n",
    "A, out = A.cpu(), out.detach().cpu()"
   ]
  },
  {
   "cell_type": "code",
   "execution_count": 35,
   "id": "3b7237d5-cf78-4efc-9156-cb6e50ae9909",
   "metadata": {},
   "outputs": [
    {
     "name": "stdout",
     "output_type": "stream",
     "text": [
      " it |       dist   it/s\n",
      "001 | 7.2920e+00 1695.65\n",
      "002 | 5.4339e+00 2404.83\n",
      "003 | 6.8512e+00 2448.31\n",
      "004 | 9.3350e+00 2535.02\n",
      "005 | 1.2631e+01 2532.64\n",
      "006 | 1.4356e+01 2558.18\n",
      "007 | 1.6237e+01 2555.50\n",
      "008 | 1.9457e+01 2574.67\n",
      "009 | 2.3800e+01 2576.95\n",
      "010 | 2.7264e+01 2490.60\n",
      "011 | 3.1385e+01 2597.04\n",
      "012 | 3.6190e+01 2587.34\n",
      "013 | 3.7353e+01 2619.97\n",
      "014 | 3.8122e+01 2560.65\n",
      "015 | 4.0684e+01 2575.29\n",
      "016 | 4.2010e+01 2597.32\n",
      "017 | 4.0119e+01 2352.24\n",
      "018 | 3.5662e+01 2598.44\n",
      "019 | 3.3948e+01 2667.90\n",
      "020 | 3.5771e+01 2645.39\n",
      "021 | 3.6833e+01 2643.00\n",
      "022 | 3.7394e+01 2657.95\n",
      "023 | 3.7669e+01 2649.60\n",
      "024 | 3.7747e+01 2669.34\n",
      "025 | 3.7976e+01 2558.21\n",
      "Terminated in 25 steps (optimal). Took 13.794 ms.\n"
     ]
    }
   ],
   "source": [
    "b = torch.randn(32, 25, 1)\n",
    "\n",
    "xs = cg_batch(lambda x: torch.matmul(A, x), b, lambda x: torch.matmul(out, x), maxiter=25, verbose=True)"
   ]
  },
  {
   "cell_type": "code",
   "execution_count": 37,
   "id": "bc58fb53-c035-4d8f-86ef-a61e9c536e75",
   "metadata": {},
   "outputs": [
    {
     "data": {
      "text/plain": [
       "(torch.Size([32, 25, 1]),\n",
       " {'niter': 25,\n",
       "  'optimal': False,\n",
       "  'last_residual': tensor([[ 4.0049],\n",
       "          [ 2.6494],\n",
       "          [ 9.3123],\n",
       "          [21.1752],\n",
       "          [12.2063],\n",
       "          [ 2.6410],\n",
       "          [ 3.7400],\n",
       "          [23.3683],\n",
       "          [ 7.6992],\n",
       "          [12.2111],\n",
       "          [ 9.0227],\n",
       "          [ 0.4155],\n",
       "          [ 4.0265],\n",
       "          [ 1.9924],\n",
       "          [23.1611],\n",
       "          [ 0.6084],\n",
       "          [12.6835],\n",
       "          [21.3835],\n",
       "          [19.2356],\n",
       "          [ 1.0631],\n",
       "          [ 2.3223],\n",
       "          [16.6067],\n",
       "          [ 5.4890],\n",
       "          [14.7171],\n",
       "          [37.6786],\n",
       "          [ 7.1517],\n",
       "          [37.9813],\n",
       "          [29.6184],\n",
       "          [ 0.6190],\n",
       "          [11.7039],\n",
       "          [ 2.0029],\n",
       "          [ 2.8418]])})"
      ]
     },
     "execution_count": 37,
     "metadata": {},
     "output_type": "execute_result"
    }
   ],
   "source": [
    "# Don't need to worry about he indifference in the solving times because this should make the difference.\n",
    "# If not optimal, all get 0 and just using (sparsity measure + residual norms). \n",
    "# If optimal, get (niter + sparsity measure + residual norms).\n",
    "xs[0].shape, xs[1]"
   ]
  },
  {
   "cell_type": "code",
   "execution_count": 24,
   "id": "caabc7f7-7a26-494b-8dbc-69725f73f946",
   "metadata": {},
   "outputs": [
    {
     "data": {
      "text/plain": [
       "torch.Size([32, 1])"
      ]
     },
     "execution_count": 24,
     "metadata": {},
     "output_type": "execute_result"
    }
   ],
   "source": [
    "xs[-1]['last_residual'].shape"
   ]
  },
  {
   "cell_type": "code",
   "execution_count": 66,
   "id": "9ddce775-758a-425d-a478-25130d8705c9",
   "metadata": {},
   "outputs": [
    {
     "data": {
      "text/plain": [
       "tensor([[59.2128],\n",
       "        [ 7.0464],\n",
       "        [ 2.1140],\n",
       "        [30.2224],\n",
       "        [ 0.2365],\n",
       "        [35.4022],\n",
       "        [ 2.7023],\n",
       "        [12.5131],\n",
       "        [13.3756],\n",
       "        [ 5.7883],\n",
       "        [14.3181],\n",
       "        [ 7.7976],\n",
       "        [ 3.8189],\n",
       "        [ 4.3380],\n",
       "        [ 3.4871],\n",
       "        [25.0654],\n",
       "        [ 6.7553],\n",
       "        [ 1.7190],\n",
       "        [ 5.8724],\n",
       "        [27.9558],\n",
       "        [ 6.5007],\n",
       "        [15.5029],\n",
       "        [22.5655],\n",
       "        [ 1.2364],\n",
       "        [17.9347],\n",
       "        [ 8.5124],\n",
       "        [28.9582],\n",
       "        [16.6276],\n",
       "        [18.8488],\n",
       "        [ 4.0766],\n",
       "        [ 2.3700],\n",
       "        [ 3.1134]])"
      ]
     },
     "execution_count": 66,
     "metadata": {},
     "output_type": "execute_result"
    }
   ],
   "source": [
    "torch.linalg.norm(A @ xs[0] - b, dim=1)"
   ]
  },
  {
   "cell_type": "code",
   "execution_count": null,
   "id": "5b5f194f-8b3a-46bd-8b8b-d1c1151e5c2d",
   "metadata": {},
   "outputs": [],
   "source": []
  }
 ],
 "metadata": {
  "kernelspec": {
   "display_name": "Python 3 (ipykernel)",
   "language": "python",
   "name": "python3"
  },
  "language_info": {
   "codemirror_mode": {
    "name": "ipython",
    "version": 3
   },
   "file_extension": ".py",
   "mimetype": "text/x-python",
   "name": "python",
   "nbconvert_exporter": "python",
   "pygments_lexer": "ipython3",
   "version": "3.9.7"
  }
 },
 "nbformat": 4,
 "nbformat_minor": 5
}
