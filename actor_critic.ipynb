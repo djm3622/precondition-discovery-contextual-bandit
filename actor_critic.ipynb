{
 "cells": [
  {
   "cell_type": "markdown",
   "id": "bd764584-2fd1-4a9a-8dcb-87478e4227ae",
   "metadata": {},
   "source": [
    "# Summary\n",
    "\n",
    "This notebook serves as the testing environment of training the actor-critic model for preconditioner learning.\n",
    "\n",
    "## TODO:\n",
    "1. LOTS"
   ]
  },
  {
   "cell_type": "markdown",
   "id": "5e7e23d7-0d7a-4fb0-bb4e-670feac097f0",
   "metadata": {},
   "source": [
    "# Imports/Setup"
   ]
  },
  {
   "cell_type": "code",
   "execution_count": 1,
   "id": "d76f3610-9500-481c-b73d-f103d53bb9e1",
   "metadata": {},
   "outputs": [
    {
     "name": "stderr",
     "output_type": "stream",
     "text": [
      "/data/users/jupyter-dam724/.local/lib/python3.9/site-packages/torch_geometric/typing.py:68: UserWarning: An issue occurred while importing 'pyg-lib'. Disabling its usage. Stacktrace: /data/users/jupyter-dam724/.local/lib/python3.9/site-packages/libpyg.so: undefined symbol: _ZN3c1010Dispatcher17runRecordFunctionERN2at14RecordFunctionESt17reference_wrapperIKNS_14FunctionSchemaEENS_11DispatchKeyE\n",
      "  warnings.warn(f\"An issue occurred while importing 'pyg-lib'. \"\n",
      "/data/users/jupyter-dam724/.local/lib/python3.9/site-packages/torch_geometric/typing.py:97: UserWarning: An issue occurred while importing 'torch-cluster'. Disabling its usage. Stacktrace: /data/users/jupyter-dam724/.local/lib/python3.9/site-packages/torch_cluster/_version_cuda.so: undefined symbol: _ZN5torch3jit17parseSchemaOrNameERKSs\n",
      "  warnings.warn(f\"An issue occurred while importing 'torch-cluster'. \"\n",
      "/data/users/jupyter-dam724/.local/lib/python3.9/site-packages/torch_geometric/typing.py:113: UserWarning: An issue occurred while importing 'torch-spline-conv'. Disabling its usage. Stacktrace: /data/users/jupyter-dam724/.local/lib/python3.9/site-packages/torch_spline_conv/_version_cuda.so: undefined symbol: _ZN5torch3jit17parseSchemaOrNameERKSs\n",
      "  warnings.warn(\n",
      "/data/users/jupyter-dam724/.local/lib/python3.9/site-packages/torch_geometric/typing.py:124: UserWarning: An issue occurred while importing 'torch-sparse'. Disabling its usage. Stacktrace: /data/users/jupyter-dam724/.local/lib/python3.9/site-packages/torch_sparse/_version_cuda.so: undefined symbol: _ZN5torch3jit17parseSchemaOrNameERKSs\n",
      "  warnings.warn(f\"An issue occurred while importing 'torch-sparse'. \"\n"
     ]
    }
   ],
   "source": [
    "from Data import critic_dataset, dataset, generator\n",
    "from Data import utility as data_utility\n",
    "from Model import critics, actors, scipy, ddpg_training\n",
    "from Model import utility as model_utility\n",
    "from Evaluation import utility as eval_utility\n",
    "from Objectives import losses, reward\n",
    "import torch\n",
    "import random\n",
    "import matplotlib.pyplot as plt\n",
    "from tqdm.notebook import tqdm"
   ]
  },
  {
   "cell_type": "markdown",
   "id": "285caa27-4b87-4cdf-955d-6eea24f01079",
   "metadata": {},
   "source": [
    "# Configuration"
   ]
  },
  {
   "cell_type": "code",
   "execution_count": 2,
   "id": "469d088a-190a-4caf-b3b8-d175a85f85b1",
   "metadata": {},
   "outputs": [],
   "source": [
    "class Config:\n",
    "    # dataset\n",
    "    device_pref = 'cuda'\n",
    "    ind_dev = 2\n",
    "    batch_size = 32\n",
    "    n = 25\n",
    "    train_len = 1000\n",
    "    batch_size = 32\n",
    "    gen_size = 5\n",
    "    valid_len = 100\n",
    "    shuffle = True\n",
    "\n",
    "    \n",
    "    # critic model\n",
    "    pretrained_critic = '/data/users/jupyter-dam724/RL/precondition-discovery-contextual-bandit/RUNS/critic_sigmoid_0.pth'\n",
    "    down = 256  # if this is changed, model architecture should be changed as well\n",
    "    sigmoid = True\n",
    "    \n",
    "    # actor model\n",
    "    pretrained_actor = None\n",
    "    hidden = 256 # 128 for LU (it doubles the amount of layers) | 512 for NID it has larger output same layers | 256 else\n",
    "    sparse_tol = 1e-5\n",
    "    diagonal_bias = 0.1\n",
    "    \n",
    "    l1 = 0\n",
    "    inv = 0\n",
    "    dev = 0\n",
    "    cond = 1.0\n",
    "    \n",
    "    # training\n",
    "    epoches = 100\n",
    "    memory = 32*250\n",
    "    wait = 64\n",
    "    lr = 1e-5\n",
    "    verbose = True"
   ]
  },
  {
   "cell_type": "markdown",
   "id": "fd96026b-9ad4-4463-bc3c-7fa87b1f2f20",
   "metadata": {},
   "source": [
    "# Device"
   ]
  },
  {
   "cell_type": "code",
   "execution_count": 3,
   "id": "8b9b8500-f590-4133-b984-3c948e52040b",
   "metadata": {},
   "outputs": [
    {
     "name": "stdout",
     "output_type": "stream",
     "text": [
      "Now using GPU.\n"
     ]
    }
   ],
   "source": [
    "device = data_utility.set_device(Config.device_pref, Config.ind_dev)"
   ]
  },
  {
   "cell_type": "markdown",
   "id": "ce4ba97a-86b1-4bdc-b677-7cc0f4527f3c",
   "metadata": {},
   "source": [
    "# Critic\n",
    "\n",
    "..."
   ]
  },
  {
   "cell_type": "code",
   "execution_count": 4,
   "id": "59782904-2a84-47c7-9203-8d1abf762abf",
   "metadata": {},
   "outputs": [],
   "source": [
    "critic_params = {\n",
    "    'n': Config.n, \n",
    "    'down': Config.down, \n",
    "    'batch_size': Config.batch_size, \n",
    "    'sigmoid_scale': Config.sigmoid\n",
    "}\n",
    "\n",
    "critic = critics.MultiCritic(**critic_params).to(device)\n",
    "\n",
    "if Config.pretrained_critic is not None:\n",
    "     model_utility.load_model(critic, Config.pretrained_critic)"
   ]
  },
  {
   "cell_type": "markdown",
   "id": "59e08e66-b146-4780-8531-136c88380bae",
   "metadata": {},
   "source": [
    "## Cirtic Objective\n",
    "\n",
    "..."
   ]
  },
  {
   "cell_type": "code",
   "execution_count": 5,
   "id": "f1c4c545-6613-41e5-a34d-49163ea62253",
   "metadata": {},
   "outputs": [],
   "source": [
    "reward_func = reward.batched_reward(Config.n, False)"
   ]
  },
  {
   "cell_type": "code",
   "execution_count": 6,
   "id": "9637d5f5-8386-4ab7-94f1-6e0262b97b9f",
   "metadata": {},
   "outputs": [],
   "source": [
    "critic_crit = losses.CriticMultiRewardLoss(1.0, 1.0, 1.0, reward_func)"
   ]
  },
  {
   "cell_type": "markdown",
   "id": "d81b8a5d-686a-43e5-ac5f-a10c4b700556",
   "metadata": {},
   "source": [
    "# Actor\n",
    "\n",
    "..."
   ]
  },
  {
   "cell_type": "code",
   "execution_count": 7,
   "id": "1bb5f111-f158-496b-86b3-577222f07146",
   "metadata": {},
   "outputs": [],
   "source": [
    "actor_params = {\n",
    "    'n':Config.n,\n",
    "    'hidden':Config.hidden,\n",
    "    'batch_size':Config.batch_size,\n",
    "    'sparse_tol':Config.sparse_tol,\n",
    "    'diagonal_bias':Config.diagonal_bias\n",
    "}\n",
    "\n",
    "actor = actors.CholeskyFCN(**actor_params).to(device)\n",
    "\n",
    "if Config.pretrained_actor is not None:\n",
    "     model_utility.load_model(actor, Config.pretrained_actor)"
   ]
  },
  {
   "cell_type": "markdown",
   "id": "d3bb62c2-a563-4316-a861-480f4189e4fa",
   "metadata": {},
   "source": [
    "# Actor (Additional) Objective\n",
    "\n",
    "..."
   ]
  },
  {
   "cell_type": "code",
   "execution_count": 8,
   "id": "fe50cc50-c9fc-444a-9465-172eef53c72c",
   "metadata": {},
   "outputs": [],
   "source": [
    "loss_params = {\n",
    "    'l1': Config.l1,\n",
    "    'inv': Config.inv,\n",
    "    'dev': Config.dev,\n",
    "    'cond': Config.cond,\n",
    "    'batch_size': Config.batch_size,\n",
    "    'size': Config.n\n",
    "}\n",
    "\n",
    "actor_crit = losses.CondEyeDistance(**loss_params)"
   ]
  },
  {
   "cell_type": "markdown",
   "id": "56a32373-cb20-4aba-947c-178477cfb883",
   "metadata": {},
   "source": [
    "# Dataset\n",
    "\n",
    "..."
   ]
  },
  {
   "cell_type": "code",
   "execution_count": 9,
   "id": "13fa5a78-e547-4cf6-8850-52f0606980cf",
   "metadata": {},
   "outputs": [],
   "source": [
    "train_dataset_params = {\n",
    "    'generator': generator.generate_2d_diffusion_spd,\n",
    "    'norm_feat': data_utility.normalize_features,\n",
    "    'epoch_len': Config.train_len,\n",
    "    'batch_size': Config.batch_size,\n",
    "    'size': Config.gen_size\n",
    "}\n",
    "\n",
    "valid_dataset_params = {\n",
    "    'generator': generator.generate_2d_diffusion_spd,\n",
    "    'norm_feat': data_utility.normalize_features,\n",
    "    'epoch_len': Config.valid_len,\n",
    "    'batch_size': Config.batch_size,\n",
    "    'size': Config.gen_size\n",
    "}\n",
    "\n",
    "train_dataset = dataset.SystemDataset(**train_dataset_params)\n",
    "valid_dataset = dataset.SystemDataset(**valid_dataset_params)"
   ]
  },
  {
   "cell_type": "code",
   "execution_count": 10,
   "id": "15d907bc-c54b-4013-a392-d446cd2a6849",
   "metadata": {},
   "outputs": [],
   "source": [
    "train_dataloader_params = {\n",
    "    'dataset': train_dataset,\n",
    "    'batch_size': Config.batch_size,\n",
    "    'shuffle': Config.shuffle\n",
    "}\n",
    "\n",
    "valid_dataloader_params = {\n",
    "    'dataset': valid_dataset,\n",
    "    'batch_size': Config.batch_size,\n",
    "    'shuffle': Config.shuffle\n",
    "}\n",
    "\n",
    "train_dataloader = dataset.get_dataloader(**train_dataloader_params)\n",
    "valid_dataloader = dataset.get_dataloader(**valid_dataloader_params)"
   ]
  },
  {
   "cell_type": "code",
   "execution_count": 11,
   "id": "9a0d11a9-bc4a-4ea3-ac54-be4d8eaa7c2c",
   "metadata": {},
   "outputs": [],
   "source": [
    "A, b = next(iter(train_dataloader))"
   ]
  },
  {
   "cell_type": "code",
   "execution_count": 12,
   "id": "3649903b-32ef-4c4a-a69f-36621f3eec92",
   "metadata": {},
   "outputs": [
    {
     "name": "stdout",
     "output_type": "stream",
     "text": [
      "Determinent: 217056736.0\n",
      "Matrix is non-singular.\n",
      "Condition: 7560.609375\n",
      "SPD\n"
     ]
    },
    {
     "data": {
      "image/png": "[encoded data removed]",
      "text/plain": [
       "<Figure size 640x480 with 1 Axes>"
      ]
     },
     "metadata": {},
     "output_type": "display_data"
    }
   ],
   "source": [
    "ind = 0\n",
    "fig, ax = plt.subplots(1, 1)\n",
    "\n",
    "data_utility.check_singularity(A, ind)\n",
    "data_utility.check_conditioning(A, ind)\n",
    "data_utility.view_matrix(A, ind, ax)\n",
    "print('SPD') if data_utility.is_spd(A, ind) else print('Non-SPD')"
   ]
  },
  {
   "cell_type": "markdown",
   "id": "8685ba70-78b4-49f5-a7f9-2fa63dd4b0ae",
   "metadata": {},
   "source": [
    "# DDPG (Contextual Bandits)\n",
    "\n",
    "..."
   ]
  },
  {
   "cell_type": "code",
   "execution_count": 13,
   "id": "6b504d19-baa4-4b52-b8f5-84234025787a",
   "metadata": {},
   "outputs": [],
   "source": [
    "def step(timestep, actor, critic, batch, critic_crit, actor_crit, buffer, wait, critic_optimizer, actor_optimizer, verbose):\n",
    "    A, b = batch\n",
    "    A, b = A.to(device), b.to(device)\n",
    "    batch_size, n_size = A.shape[0], A.shape[1]\n",
    "    A = A.view(batch_size, n_size**2)\n",
    "    \n",
    "    actor_out = actor(A)\n",
    "    \n",
    "    actor_update, critic_update = None, None\n",
    "    \n",
    "    if timestep != 0 and timestep % wait == 0:\n",
    "        model_utility.unfreeze(critic)\n",
    "        c_loader = tqdm(range(wait), desc=f'Critic-Train', leave=False, mininterval=2.0) if verbose else range(wait)\n",
    "        \n",
    "        accumulation_steps = 4\n",
    "        critic_optimizer.zero_grad()   \n",
    "        \n",
    "        for batch_idx, _ in enumerate(c_loader):\n",
    "            A, M, b = random.sample(buffer, 1)[0]\n",
    "            A, M, b = A.to(device), M.to(device), b.to(device)\n",
    "            inp = torch.concat([A, M], dim=1)\n",
    "            out = critic(inp)\n",
    "            \n",
    "            sarse  = out[:, 0].view(batch_size, 1)\n",
    "            niter = out[:, 1].view(batch_size, 1)\n",
    "            residuals = out[:, 2].view(batch_size, 1)\n",
    "\n",
    "            critic_update = critic_crit(sarse, niter, residuals, A.view(batch_size, n_size, n_size), M.view(batch_size, n_size, n_size), b)\n",
    "                                \n",
    "            if verbose:\n",
    "                c_loader.set_postfix(critic_updates=critic_update.item())\n",
    "                \n",
    "            critic_update = critic_update / accumulation_steps \n",
    "            critic_update.backward()  \n",
    "            if (batch_idx + 1) % accumulation_steps == 0 or (batch_idx + 1) == len(c_loader):\n",
    "                critic_optimizer.step()\n",
    "                critic_optimizer.zero_grad()      \n",
    "        \n",
    "    else:\n",
    "        model_utility.freeze(critic)\n",
    "        actor_out = actor_out.view(batch_size, n_size**2)\n",
    "        A_out = torch.concat([A, actor_out], dim=1)\n",
    "        critic_out = critic(A_out)\n",
    "        weights = torch.Tensor([1.0, 1.0, 1.0]).to(device)\n",
    "        \n",
    "        actor_update = torch.mean(-critic_out @ weights)\n",
    "        \n",
    "        if actor_crit is not None:\n",
    "            actor_update += 0.25 * actor_crit(A.view(batch_size, n_size, n_size), actor_out.view(batch_size, n_size, n_size))\n",
    "            \n",
    "        actor_update.backward() \n",
    "        actor_optimizer.step()\n",
    "        actor_optimizer.zero_grad()\n",
    "        \n",
    "        buffer.append((A.cpu(), actor_out.detach().cpu(), b.cpu()))\n",
    "            \n",
    "    return actor_update"
   ]
  },
  {
   "cell_type": "code",
   "execution_count": 24,
   "id": "9797921d-7d4d-4e50-b85f-e5f0e4ee3dfe",
   "metadata": {},
   "outputs": [],
   "source": [
    "def structured_preconditioner_noise(action, noise_type='symmetric', strength=0.1):\n",
    "    if noise_type == 'symmetric':\n",
    "        # Ensure symmetry is preserved\n",
    "        noise = torch.randn_like(action).to(device)\n",
    "        symmetric_noise = (noise + torch.transpose(noise, 1, 2)) / 2\n",
    "        return action + symmetric_noise * strength\n",
    "    \n",
    "    elif noise_type == 'low_rank':\n",
    "        # Add low-rank perturbation\n",
    "        rank_1_noise = torch.outer(torch.randn(action.size(0)), \n",
    "                                   torch.randn(action.size(1)))\n",
    "        return action + strength * 0.05\n",
    "    \n",
    "    elif noise_type == 'diagonal_dominant':\n",
    "        # Preserve diagonal dominance\n",
    "        noise = torch.randn_like(action)\n",
    "        noise.fill_diagonal_(noise.diag() * 2)  # Emphasize diagonal noise\n",
    "        return action + noise * 0.1"
   ]
  },
  {
   "cell_type": "code",
   "execution_count": 25,
   "id": "1d6e072d-4498-44c8-9038-838dbef08d39",
   "metadata": {},
   "outputs": [],
   "source": [
    "def step(timestep, actor, critic, batch, critic_crit, actor_crit, buffer, wait, critic_optimizer, actor_optimizer, verbose):\n",
    "\n",
    "    A, b = batch  # A: state, b: reward\n",
    "    A, b = A.to(device), b.to(device)\n",
    "    batch_size, n_size = A.shape[0], A.shape[1]\n",
    "    A = A.view(batch_size, n_size**2)\n",
    "    \n",
    "    critic_update_item = 0\n",
    "    \n",
    "    # Critic Training (periodically)\n",
    "    if timestep != 0 and timestep % wait == 0:\n",
    "        critic_optimizer.zero_grad()\n",
    "        model_utility.unfreeze(critic)\n",
    "        \n",
    "        # Sample from replay buffer\n",
    "        if len(buffer) > 0:\n",
    "            A, M, b = random.sample(buffer, 1)[0]\n",
    "            A, M, b = A.to(device), M.to(device), b.to(device)\n",
    "            critic_input = torch.concat([A, M], dim=1)\n",
    "            predicted_rewards = critic(critic_input)\n",
    "            \n",
    "            # Critic loss (predicting immediate reward)\n",
    "            sparsity  = predicted_rewards[:, 0].view(batch_size, 1)\n",
    "            niter = predicted_rewards[:, 1].view(batch_size, 1)\n",
    "            residuals = predicted_rewards[:, 2].view(batch_size, 1)\n",
    "\n",
    "            critic_update = critic_crit(\n",
    "                sparsity, niter, residuals, \n",
    "                A.view(batch_size, n_size, n_size), \n",
    "                M.view(batch_size, n_size, n_size), b\n",
    "            )\n",
    "            \n",
    "            critic_update_item = critic_update.item()\n",
    "            \n",
    "            critic_update.backward()\n",
    "            torch.nn.utils.clip_grad_norm_(critic.parameters(), max_norm=1.0)\n",
    "            critic_optimizer.step()\n",
    "    \n",
    "    # Actor Update\n",
    "    actor_optimizer.zero_grad()\n",
    "    model_utility.freeze(critic)\n",
    "    \n",
    "    # Generate action\n",
    "    actor_out = actor(A)\n",
    "    # actor_out = structured_preconditioner_noise(actor_out)  # add noise to action\n",
    "    actor_out = actor_out.view(batch_size, n_size**2)\n",
    "    \n",
    "    # Actor loss: maximize expected reward \n",
    "    # Combine state and generated action to get reward prediction\n",
    "    actor_input = torch.cat([A, actor_out], dim=1)\n",
    "    actor_loss = (-critic(actor_input) @ torch.Tensor([1.0, 1.0, 1.0]).to(device)).mean()\n",
    "    \n",
    "    # Optional additional actor criterion\n",
    "    if actor_crit is not None:\n",
    "        actor_loss += 1.0 * actor_crit(\n",
    "            A.view(batch_size, n_size, n_size), \n",
    "            actor_out.view(batch_size, n_size, n_size)\n",
    "        )\n",
    "    \n",
    "    actor_loss.backward()\n",
    "    torch.nn.utils.clip_grad_norm_(actor.parameters(), max_norm=1.0)\n",
    "    actor_optimizer.step()\n",
    "        \n",
    "    # Add to replay buffer    \n",
    "    buffer.append((A.cpu(), actor_out.detach().cpu(), b.cpu()))\n",
    "    \n",
    "    return actor_loss.item(), critic_update_item"
   ]
  },
  {
   "cell_type": "code",
   "execution_count": 26,
   "id": "9873f890-97a7-43c4-bbbe-e0ee10681310",
   "metadata": {
    "tags": []
   },
   "outputs": [
    {
     "data": {
      "application/vnd.jupyter.widget-view+json": {
       "model_id": "54aabb872a7d4943a2acc81f586d6184",
       "version_major": 2,
       "version_minor": 0
      },
      "text/plain": [
       "Actor-Train:   0%|          | 0/1000 [00:00<?, ?it/s]"
      ]
     },
     "metadata": {},
     "output_type": "display_data"
    },
    {
     "ename": "KeyboardInterrupt",
     "evalue": "",
     "output_type": "error",
     "traceback": [
      "\u001b[0;31m---------------------------------------------------------------------------\u001b[0m",
      "\u001b[0;31mKeyboardInterrupt\u001b[0m                         Traceback (most recent call last)",
      "Cell \u001b[0;32mIn[26], line 22\u001b[0m\n\u001b[1;32m      1\u001b[0m train_log, valid_log \u001b[38;5;241m=\u001b[39m [], []\n\u001b[1;32m      3\u001b[0m ddpg_params \u001b[38;5;241m=\u001b[39m {\n\u001b[1;32m      4\u001b[0m     \u001b[38;5;124m'\u001b[39m\u001b[38;5;124mepoches\u001b[39m\u001b[38;5;124m'\u001b[39m: Config\u001b[38;5;241m.\u001b[39mepoches,\n\u001b[1;32m      5\u001b[0m     \u001b[38;5;124m'\u001b[39m\u001b[38;5;124mactor\u001b[39m\u001b[38;5;124m'\u001b[39m: actor,\n\u001b[0;32m   (...)\u001b[0m\n\u001b[1;32m     19\u001b[0m     \u001b[38;5;124m'\u001b[39m\u001b[38;5;124mverbose\u001b[39m\u001b[38;5;124m'\u001b[39m: \u001b[38;5;28;01mTrue\u001b[39;00m\n\u001b[1;32m     20\u001b[0m }\n\u001b[0;32m---> 22\u001b[0m \u001b[43mddpg_training\u001b[49m\u001b[38;5;241;43m.\u001b[39;49m\u001b[43mtrain\u001b[49m\u001b[43m(\u001b[49m\u001b[38;5;241;43m*\u001b[39;49m\u001b[38;5;241;43m*\u001b[39;49m\u001b[43mddpg_params\u001b[49m\u001b[43m)\u001b[49m\n",
      "File \u001b[0;32m~/RL/precondition-discovery-contextual-bandit/Model/ddpg_training.py:30\u001b[0m, in \u001b[0;36mtrain\u001b[0;34m(epoches, actor, critic, train_set, valid_set, device, train_log, valid_log, critic_crit, actor_crit, actor_lr, critic_lr, memory, wait, step, verbose)\u001b[0m\n\u001b[1;32m     28\u001b[0m critic\u001b[38;5;241m.\u001b[39mtrain()\n\u001b[1;32m     29\u001b[0m t_loader \u001b[38;5;241m=\u001b[39m tqdm(train_set, desc\u001b[38;5;241m=\u001b[39m\u001b[38;5;124mf\u001b[39m\u001b[38;5;124m'\u001b[39m\u001b[38;5;124mActor-Train\u001b[39m\u001b[38;5;124m'\u001b[39m, leave\u001b[38;5;241m=\u001b[39m\u001b[38;5;28;01mFalse\u001b[39;00m, mininterval\u001b[38;5;241m=\u001b[39m\u001b[38;5;241m2.0\u001b[39m) \u001b[38;5;28;01mif\u001b[39;00m verbose \u001b[38;5;28;01melse\u001b[39;00m train_set\n\u001b[0;32m---> 30\u001b[0m \u001b[38;5;28;01mfor\u001b[39;00m batch_idx, batch \u001b[38;5;129;01min\u001b[39;00m \u001b[38;5;28menumerate\u001b[39m(t_loader):\n\u001b[1;32m     31\u001b[0m     actor_update, critic_update \u001b[38;5;241m=\u001b[39m step(batch_idx, actor, critic, batch, critic_crit, actor_crit, buffer, wait, critic_optimizer, actor_optimizer, verbose)\n\u001b[1;32m     33\u001b[0m     \u001b[38;5;28;01mif\u001b[39;00m actor_update \u001b[38;5;129;01mis\u001b[39;00m \u001b[38;5;129;01mnot\u001b[39;00m \u001b[38;5;28;01mNone\u001b[39;00m:\n",
      "File \u001b[0;32m/opt/tljh/user/lib/python3.9/site-packages/tqdm/notebook.py:257\u001b[0m, in \u001b[0;36mtqdm_notebook.__iter__\u001b[0;34m(self)\u001b[0m\n\u001b[1;32m    255\u001b[0m \u001b[38;5;28;01mdef\u001b[39;00m \u001b[38;5;21m__iter__\u001b[39m(\u001b[38;5;28mself\u001b[39m):\n\u001b[1;32m    256\u001b[0m     \u001b[38;5;28;01mtry\u001b[39;00m:\n\u001b[0;32m--> 257\u001b[0m         \u001b[38;5;28;01mfor\u001b[39;00m obj \u001b[38;5;129;01min\u001b[39;00m \u001b[38;5;28msuper\u001b[39m(tqdm_notebook, \u001b[38;5;28mself\u001b[39m)\u001b[38;5;241m.\u001b[39m\u001b[38;5;21m__iter__\u001b[39m():\n\u001b[1;32m    258\u001b[0m             \u001b[38;5;66;03m# return super(tqdm...) will not catch exception\u001b[39;00m\n\u001b[1;32m    259\u001b[0m             \u001b[38;5;28;01myield\u001b[39;00m obj\n\u001b[1;32m    260\u001b[0m     \u001b[38;5;66;03m# NB: except ... [ as ...] breaks IPython async KeyboardInterrupt\u001b[39;00m\n",
      "File \u001b[0;32m/opt/tljh/user/lib/python3.9/site-packages/tqdm/std.py:1180\u001b[0m, in \u001b[0;36mtqdm.__iter__\u001b[0;34m(self)\u001b[0m\n\u001b[1;32m   1177\u001b[0m time \u001b[38;5;241m=\u001b[39m \u001b[38;5;28mself\u001b[39m\u001b[38;5;241m.\u001b[39m_time\n\u001b[1;32m   1179\u001b[0m \u001b[38;5;28;01mtry\u001b[39;00m:\n\u001b[0;32m-> 1180\u001b[0m     \u001b[38;5;28;01mfor\u001b[39;00m obj \u001b[38;5;129;01min\u001b[39;00m iterable:\n\u001b[1;32m   1181\u001b[0m         \u001b[38;5;28;01myield\u001b[39;00m obj\n\u001b[1;32m   1182\u001b[0m         \u001b[38;5;66;03m# Update and possibly print the progressbar.\u001b[39;00m\n\u001b[1;32m   1183\u001b[0m         \u001b[38;5;66;03m# Note: does not call self.update(1) for speed optimisation.\u001b[39;00m\n",
      "File \u001b[0;32m~/.local/lib/python3.9/site-packages/torch/utils/data/dataloader.py:701\u001b[0m, in \u001b[0;36m_BaseDataLoaderIter.__next__\u001b[0;34m(self)\u001b[0m\n\u001b[1;32m    698\u001b[0m \u001b[38;5;28;01mif\u001b[39;00m \u001b[38;5;28mself\u001b[39m\u001b[38;5;241m.\u001b[39m_sampler_iter \u001b[38;5;129;01mis\u001b[39;00m \u001b[38;5;28;01mNone\u001b[39;00m:\n\u001b[1;32m    699\u001b[0m     \u001b[38;5;66;03m# TODO(https://github.com/pytorch/pytorch/issues/76750)\u001b[39;00m\n\u001b[1;32m    700\u001b[0m     \u001b[38;5;28mself\u001b[39m\u001b[38;5;241m.\u001b[39m_reset()  \u001b[38;5;66;03m# type: ignore[call-arg]\u001b[39;00m\n\u001b[0;32m--> 701\u001b[0m data \u001b[38;5;241m=\u001b[39m \u001b[38;5;28;43mself\u001b[39;49m\u001b[38;5;241;43m.\u001b[39;49m\u001b[43m_next_data\u001b[49m\u001b[43m(\u001b[49m\u001b[43m)\u001b[49m\n\u001b[1;32m    702\u001b[0m \u001b[38;5;28mself\u001b[39m\u001b[38;5;241m.\u001b[39m_num_yielded \u001b[38;5;241m+\u001b[39m\u001b[38;5;241m=\u001b[39m \u001b[38;5;241m1\u001b[39m\n\u001b[1;32m    703\u001b[0m \u001b[38;5;28;01mif\u001b[39;00m (\n\u001b[1;32m    704\u001b[0m     \u001b[38;5;28mself\u001b[39m\u001b[38;5;241m.\u001b[39m_dataset_kind \u001b[38;5;241m==\u001b[39m _DatasetKind\u001b[38;5;241m.\u001b[39mIterable\n\u001b[1;32m    705\u001b[0m     \u001b[38;5;129;01mand\u001b[39;00m \u001b[38;5;28mself\u001b[39m\u001b[38;5;241m.\u001b[39m_IterableDataset_len_called \u001b[38;5;129;01mis\u001b[39;00m \u001b[38;5;129;01mnot\u001b[39;00m \u001b[38;5;28;01mNone\u001b[39;00m\n\u001b[1;32m    706\u001b[0m     \u001b[38;5;129;01mand\u001b[39;00m \u001b[38;5;28mself\u001b[39m\u001b[38;5;241m.\u001b[39m_num_yielded \u001b[38;5;241m>\u001b[39m \u001b[38;5;28mself\u001b[39m\u001b[38;5;241m.\u001b[39m_IterableDataset_len_called\n\u001b[1;32m    707\u001b[0m ):\n",
      "File \u001b[0;32m~/.local/lib/python3.9/site-packages/torch/utils/data/dataloader.py:757\u001b[0m, in \u001b[0;36m_SingleProcessDataLoaderIter._next_data\u001b[0;34m(self)\u001b[0m\n\u001b[1;32m    755\u001b[0m \u001b[38;5;28;01mdef\u001b[39;00m \u001b[38;5;21m_next_data\u001b[39m(\u001b[38;5;28mself\u001b[39m):\n\u001b[1;32m    756\u001b[0m     index \u001b[38;5;241m=\u001b[39m \u001b[38;5;28mself\u001b[39m\u001b[38;5;241m.\u001b[39m_next_index()  \u001b[38;5;66;03m# may raise StopIteration\u001b[39;00m\n\u001b[0;32m--> 757\u001b[0m     data \u001b[38;5;241m=\u001b[39m \u001b[38;5;28;43mself\u001b[39;49m\u001b[38;5;241;43m.\u001b[39;49m\u001b[43m_dataset_fetcher\u001b[49m\u001b[38;5;241;43m.\u001b[39;49m\u001b[43mfetch\u001b[49m\u001b[43m(\u001b[49m\u001b[43mindex\u001b[49m\u001b[43m)\u001b[49m  \u001b[38;5;66;03m# may raise StopIteration\u001b[39;00m\n\u001b[1;32m    758\u001b[0m     \u001b[38;5;28;01mif\u001b[39;00m \u001b[38;5;28mself\u001b[39m\u001b[38;5;241m.\u001b[39m_pin_memory:\n\u001b[1;32m    759\u001b[0m         data \u001b[38;5;241m=\u001b[39m _utils\u001b[38;5;241m.\u001b[39mpin_memory\u001b[38;5;241m.\u001b[39mpin_memory(data, \u001b[38;5;28mself\u001b[39m\u001b[38;5;241m.\u001b[39m_pin_memory_device)\n",
      "File \u001b[0;32m~/.local/lib/python3.9/site-packages/torch/utils/data/_utils/fetch.py:52\u001b[0m, in \u001b[0;36m_MapDatasetFetcher.fetch\u001b[0;34m(self, possibly_batched_index)\u001b[0m\n\u001b[1;32m     50\u001b[0m         data \u001b[38;5;241m=\u001b[39m \u001b[38;5;28mself\u001b[39m\u001b[38;5;241m.\u001b[39mdataset\u001b[38;5;241m.\u001b[39m__getitems__(possibly_batched_index)\n\u001b[1;32m     51\u001b[0m     \u001b[38;5;28;01melse\u001b[39;00m:\n\u001b[0;32m---> 52\u001b[0m         data \u001b[38;5;241m=\u001b[39m [\u001b[38;5;28mself\u001b[39m\u001b[38;5;241m.\u001b[39mdataset[idx] \u001b[38;5;28;01mfor\u001b[39;00m idx \u001b[38;5;129;01min\u001b[39;00m possibly_batched_index]\n\u001b[1;32m     53\u001b[0m \u001b[38;5;28;01melse\u001b[39;00m:\n\u001b[1;32m     54\u001b[0m     data \u001b[38;5;241m=\u001b[39m \u001b[38;5;28mself\u001b[39m\u001b[38;5;241m.\u001b[39mdataset[possibly_batched_index]\n",
      "File \u001b[0;32m~/.local/lib/python3.9/site-packages/torch/utils/data/_utils/fetch.py:52\u001b[0m, in \u001b[0;36m<listcomp>\u001b[0;34m(.0)\u001b[0m\n\u001b[1;32m     50\u001b[0m         data \u001b[38;5;241m=\u001b[39m \u001b[38;5;28mself\u001b[39m\u001b[38;5;241m.\u001b[39mdataset\u001b[38;5;241m.\u001b[39m__getitems__(possibly_batched_index)\n\u001b[1;32m     51\u001b[0m     \u001b[38;5;28;01melse\u001b[39;00m:\n\u001b[0;32m---> 52\u001b[0m         data \u001b[38;5;241m=\u001b[39m [\u001b[38;5;28;43mself\u001b[39;49m\u001b[38;5;241;43m.\u001b[39;49m\u001b[43mdataset\u001b[49m\u001b[43m[\u001b[49m\u001b[43midx\u001b[49m\u001b[43m]\u001b[49m \u001b[38;5;28;01mfor\u001b[39;00m idx \u001b[38;5;129;01min\u001b[39;00m possibly_batched_index]\n\u001b[1;32m     53\u001b[0m \u001b[38;5;28;01melse\u001b[39;00m:\n\u001b[1;32m     54\u001b[0m     data \u001b[38;5;241m=\u001b[39m \u001b[38;5;28mself\u001b[39m\u001b[38;5;241m.\u001b[39mdataset[possibly_batched_index]\n",
      "File \u001b[0;32m~/.local/lib/python3.9/site-packages/torch_geometric/data/dataset.py:291\u001b[0m, in \u001b[0;36mDataset.__getitem__\u001b[0;34m(self, idx)\u001b[0m\n\u001b[1;32m    280\u001b[0m \u001b[38;5;124mr\u001b[39m\u001b[38;5;124;03m\"\"\"In case :obj:`idx` is of type integer, will return the data object\u001b[39;00m\n\u001b[1;32m    281\u001b[0m \u001b[38;5;124;03mat index :obj:`idx` (and transforms it in case :obj:`transform` is\u001b[39;00m\n\u001b[1;32m    282\u001b[0m \u001b[38;5;124;03mpresent).\u001b[39;00m\n\u001b[0;32m   (...)\u001b[0m\n\u001b[1;32m    285\u001b[0m \u001b[38;5;124;03mbool, will return a subset of the dataset at the specified indices.\u001b[39;00m\n\u001b[1;32m    286\u001b[0m \u001b[38;5;124;03m\"\"\"\u001b[39;00m\n\u001b[1;32m    287\u001b[0m \u001b[38;5;28;01mif\u001b[39;00m (\u001b[38;5;28misinstance\u001b[39m(idx, (\u001b[38;5;28mint\u001b[39m, np\u001b[38;5;241m.\u001b[39minteger))\n\u001b[1;32m    288\u001b[0m         \u001b[38;5;129;01mor\u001b[39;00m (\u001b[38;5;28misinstance\u001b[39m(idx, Tensor) \u001b[38;5;129;01mand\u001b[39;00m idx\u001b[38;5;241m.\u001b[39mdim() \u001b[38;5;241m==\u001b[39m \u001b[38;5;241m0\u001b[39m)\n\u001b[1;32m    289\u001b[0m         \u001b[38;5;129;01mor\u001b[39;00m (\u001b[38;5;28misinstance\u001b[39m(idx, np\u001b[38;5;241m.\u001b[39mndarray) \u001b[38;5;129;01mand\u001b[39;00m np\u001b[38;5;241m.\u001b[39misscalar(idx))):\n\u001b[0;32m--> 291\u001b[0m     data \u001b[38;5;241m=\u001b[39m \u001b[38;5;28;43mself\u001b[39;49m\u001b[38;5;241;43m.\u001b[39;49m\u001b[43mget\u001b[49m\u001b[43m(\u001b[49m\u001b[38;5;28;43mself\u001b[39;49m\u001b[38;5;241;43m.\u001b[39;49m\u001b[43mindices\u001b[49m\u001b[43m(\u001b[49m\u001b[43m)\u001b[49m\u001b[43m[\u001b[49m\u001b[43midx\u001b[49m\u001b[43m]\u001b[49m\u001b[43m)\u001b[49m\n\u001b[1;32m    292\u001b[0m     data \u001b[38;5;241m=\u001b[39m data \u001b[38;5;28;01mif\u001b[39;00m \u001b[38;5;28mself\u001b[39m\u001b[38;5;241m.\u001b[39mtransform \u001b[38;5;129;01mis\u001b[39;00m \u001b[38;5;28;01mNone\u001b[39;00m \u001b[38;5;28;01melse\u001b[39;00m \u001b[38;5;28mself\u001b[39m\u001b[38;5;241m.\u001b[39mtransform(data)\n\u001b[1;32m    293\u001b[0m     \u001b[38;5;28;01mreturn\u001b[39;00m data\n",
      "File \u001b[0;32m~/RL/precondition-discovery-contextual-bandit/Data/dataset.py:20\u001b[0m, in \u001b[0;36mSystemDataset.get\u001b[0;34m(self, idx)\u001b[0m\n\u001b[1;32m     19\u001b[0m \u001b[38;5;28;01mdef\u001b[39;00m \u001b[38;5;21mget\u001b[39m(\u001b[38;5;28mself\u001b[39m, idx):\n\u001b[0;32m---> 20\u001b[0m     A \u001b[38;5;241m=\u001b[39m torch\u001b[38;5;241m.\u001b[39mfrom_numpy(\u001b[38;5;28;43mself\u001b[39;49m\u001b[38;5;241;43m.\u001b[39;49m\u001b[43mgenerator\u001b[49m\u001b[43m(\u001b[49m\u001b[38;5;28;43mself\u001b[39;49m\u001b[38;5;241;43m.\u001b[39;49m\u001b[43msize\u001b[49m\u001b[43m,\u001b[49m\u001b[43m \u001b[49m\u001b[43mperturbation_strength\u001b[49m\u001b[38;5;241;43m=\u001b[39;49m\u001b[38;5;28;43mself\u001b[39;49m\u001b[38;5;241;43m.\u001b[39;49m\u001b[43mperturbation_strength\u001b[49m\u001b[43m)\u001b[49m[\u001b[38;5;241m0\u001b[39m]\u001b[38;5;241m.\u001b[39mtoarray())\n\u001b[1;32m     21\u001b[0m     A \u001b[38;5;241m=\u001b[39m \u001b[38;5;28mself\u001b[39m\u001b[38;5;241m.\u001b[39mnorm_features(A)\n\u001b[1;32m     22\u001b[0m     A \u001b[38;5;241m=\u001b[39m torch\u001b[38;5;241m.\u001b[39mwhere(torch\u001b[38;5;241m.\u001b[39mabs(A) \u001b[38;5;241m<\u001b[39m \u001b[38;5;241m1e-1\u001b[39m, torch\u001b[38;5;241m.\u001b[39mzeros_like(A), A)\n",
      "File \u001b[0;32m~/RL/precondition-discovery-contextual-bandit/Data/generator.py:50\u001b[0m, in \u001b[0;36mgenerate_2d_diffusion_spd\u001b[0;34m(n, bump_range, contrast_range, perturbation_strength)\u001b[0m\n\u001b[1;32m     48\u001b[0m diagonals \u001b[38;5;241m=\u001b[39m [off_diag_y, off_diag_x, main_diag, off_diag_x, off_diag_y]\n\u001b[1;32m     49\u001b[0m offsets \u001b[38;5;241m=\u001b[39m [\u001b[38;5;241m-\u001b[39mn, \u001b[38;5;241m-\u001b[39m\u001b[38;5;241m1\u001b[39m, \u001b[38;5;241m0\u001b[39m, \u001b[38;5;241m1\u001b[39m, n]\n\u001b[0;32m---> 50\u001b[0m A \u001b[38;5;241m=\u001b[39m \u001b[43msp\u001b[49m\u001b[38;5;241;43m.\u001b[39;49m\u001b[43mdiags\u001b[49m\u001b[43m(\u001b[49m\u001b[43mdiagonals\u001b[49m\u001b[43m,\u001b[49m\u001b[43m \u001b[49m\u001b[43moffsets\u001b[49m\u001b[43m,\u001b[49m\u001b[43m \u001b[49m\u001b[38;5;28;43mformat\u001b[39;49m\u001b[38;5;241;43m=\u001b[39;49m\u001b[38;5;124;43m\"\u001b[39;49m\u001b[38;5;124;43mcsr\u001b[39;49m\u001b[38;5;124;43m\"\u001b[39;49m\u001b[43m)\u001b[49m\n\u001b[1;32m     52\u001b[0m A \u001b[38;5;241m=\u001b[39m perturb_nonzeros(A, perturbation_strength)\n\u001b[1;32m     54\u001b[0m \u001b[38;5;28;01mreturn\u001b[39;00m A, a\n",
      "File \u001b[0;32m~/.local/lib/python3.9/site-packages/scipy/sparse/_construct.py:279\u001b[0m, in \u001b[0;36mdiags\u001b[0;34m(diagonals, offsets, shape, format, dtype)\u001b[0m\n\u001b[1;32m    200\u001b[0m \u001b[38;5;28;01mdef\u001b[39;00m \u001b[38;5;21mdiags\u001b[39m(diagonals, offsets\u001b[38;5;241m=\u001b[39m\u001b[38;5;241m0\u001b[39m, shape\u001b[38;5;241m=\u001b[39m\u001b[38;5;28;01mNone\u001b[39;00m, \u001b[38;5;28mformat\u001b[39m\u001b[38;5;241m=\u001b[39m\u001b[38;5;28;01mNone\u001b[39;00m, dtype\u001b[38;5;241m=\u001b[39m\u001b[38;5;28;01mNone\u001b[39;00m):\n\u001b[1;32m    201\u001b[0m     \u001b[38;5;124;03m\"\"\"\u001b[39;00m\n\u001b[1;32m    202\u001b[0m \u001b[38;5;124;03m    Construct a sparse matrix from diagonals.\u001b[39;00m\n\u001b[1;32m    203\u001b[0m \n\u001b[0;32m   (...)\u001b[0m\n\u001b[1;32m    277\u001b[0m \u001b[38;5;124;03m           [ 0.,  0.,  0.,  0.]])\u001b[39;00m\n\u001b[1;32m    278\u001b[0m \u001b[38;5;124;03m    \"\"\"\u001b[39;00m\n\u001b[0;32m--> 279\u001b[0m     A \u001b[38;5;241m=\u001b[39m \u001b[43mdiags_array\u001b[49m\u001b[43m(\u001b[49m\u001b[43mdiagonals\u001b[49m\u001b[43m,\u001b[49m\u001b[43m \u001b[49m\u001b[43moffsets\u001b[49m\u001b[38;5;241;43m=\u001b[39;49m\u001b[43moffsets\u001b[49m\u001b[43m,\u001b[49m\u001b[43m \u001b[49m\u001b[43mshape\u001b[49m\u001b[38;5;241;43m=\u001b[39;49m\u001b[43mshape\u001b[49m\u001b[43m,\u001b[49m\u001b[43m \u001b[49m\u001b[43mdtype\u001b[49m\u001b[38;5;241;43m=\u001b[39;49m\u001b[43mdtype\u001b[49m\u001b[43m)\u001b[49m\n\u001b[1;32m    280\u001b[0m     \u001b[38;5;28;01mreturn\u001b[39;00m dia_matrix(A)\u001b[38;5;241m.\u001b[39masformat(\u001b[38;5;28mformat\u001b[39m)\n",
      "File \u001b[0;32m~/.local/lib/python3.9/site-packages/scipy/sparse/_construct.py:169\u001b[0m, in \u001b[0;36mdiags_array\u001b[0;34m(diagonals, offsets, shape, format, dtype)\u001b[0m\n\u001b[1;32m    167\u001b[0m \u001b[38;5;66;03m# Determine data type, if omitted\u001b[39;00m\n\u001b[1;32m    168\u001b[0m \u001b[38;5;28;01mif\u001b[39;00m dtype \u001b[38;5;129;01mis\u001b[39;00m \u001b[38;5;28;01mNone\u001b[39;00m:\n\u001b[0;32m--> 169\u001b[0m     dtype \u001b[38;5;241m=\u001b[39m \u001b[43mnp\u001b[49m\u001b[38;5;241;43m.\u001b[39;49m\u001b[43mcommon_type\u001b[49m\u001b[43m(\u001b[49m\u001b[38;5;241;43m*\u001b[39;49m\u001b[43mdiagonals\u001b[49m\u001b[43m)\u001b[49m\n\u001b[1;32m    171\u001b[0m \u001b[38;5;66;03m# Construct data array\u001b[39;00m\n\u001b[1;32m    172\u001b[0m m, n \u001b[38;5;241m=\u001b[39m shape\n",
      "File \u001b[0;32m~/.local/lib/python3.9/site-packages/numpy/lib/type_check.py:728\u001b[0m, in \u001b[0;36mcommon_type\u001b[0;34m(*arrays)\u001b[0m\n\u001b[1;32m    726\u001b[0m     p \u001b[38;5;241m=\u001b[39m \u001b[38;5;241m2\u001b[39m  \u001b[38;5;66;03m# array_precision[_nx.double]\u001b[39;00m\n\u001b[1;32m    727\u001b[0m \u001b[38;5;28;01melse\u001b[39;00m:\n\u001b[0;32m--> 728\u001b[0m     p \u001b[38;5;241m=\u001b[39m \u001b[43marray_precision\u001b[49m\u001b[38;5;241;43m.\u001b[39;49m\u001b[43mget\u001b[49m(t, \u001b[38;5;28;01mNone\u001b[39;00m)\n\u001b[1;32m    729\u001b[0m     \u001b[38;5;28;01mif\u001b[39;00m p \u001b[38;5;129;01mis\u001b[39;00m \u001b[38;5;28;01mNone\u001b[39;00m:\n\u001b[1;32m    730\u001b[0m         \u001b[38;5;28;01mraise\u001b[39;00m \u001b[38;5;167;01mTypeError\u001b[39;00m(\u001b[38;5;124m\"\u001b[39m\u001b[38;5;124mcan\u001b[39m\u001b[38;5;124m'\u001b[39m\u001b[38;5;124mt get common type for non-numeric array\u001b[39m\u001b[38;5;124m\"\u001b[39m)\n",
      "\u001b[0;31mKeyboardInterrupt\u001b[0m: "
     ]
    }
   ],
   "source": [
    "train_log, valid_log = [], []\n",
    "\n",
    "ddpg_params = {\n",
    "    'epoches': Config.epoches,\n",
    "    'actor': actor,\n",
    "    'critic': critic,\n",
    "    'train_set': train_dataloader,\n",
    "    'valid_set': valid_dataloader,\n",
    "    'device': device,\n",
    "    'train_log': train_log,\n",
    "    'valid_log': valid_log,\n",
    "    'critic_crit': critic_crit,\n",
    "    'actor_crit': actor_crit,\n",
    "    'actor_lr': 1e-5,\n",
    "    'critic_lr': 1e-5,\n",
    "    'memory': 1000, \n",
    "    'wait': 1,\n",
    "    'step': step,\n",
    "    'verbose': True\n",
    "}\n",
    "\n",
    "ddpg_training.train(**ddpg_params)"
   ]
  },
  {
   "cell_type": "code",
   "execution_count": 27,
   "id": "687520aa-49f1-4595-9907-8516559fb53a",
   "metadata": {},
   "outputs": [],
   "source": [
    "A, b = next(iter(train_dataloader))"
   ]
  },
  {
   "cell_type": "code",
   "execution_count": 28,
   "id": "05b5b808-95b2-44da-bbc9-d396153661e8",
   "metadata": {},
   "outputs": [],
   "source": [
    "A, b = A.to(device), b.to(device)"
   ]
  },
  {
   "cell_type": "code",
   "execution_count": 29,
   "id": "b1fd74ae-80ab-4cbd-a721-3c6a0959d2f7",
   "metadata": {},
   "outputs": [],
   "source": [
    "model_utility.freeze(critic)"
   ]
  },
  {
   "cell_type": "code",
   "execution_count": 30,
   "id": "14bd0c99-06a1-474a-86b0-e18913a9895d",
   "metadata": {},
   "outputs": [],
   "source": [
    "actor_out = actor(A.view(Config.batch_size, Config.n**2))"
   ]
  },
  {
   "cell_type": "code",
   "execution_count": 31,
   "id": "83e7c9dd-3f0d-45a3-8a45-485fa22514e4",
   "metadata": {},
   "outputs": [
    {
     "data": {
      "text/plain": [
       "<matplotlib.image.AxesImage at 0x7fbafe106880>"
      ]
     },
     "execution_count": 31,
     "metadata": {},
     "output_type": "execute_result"
    },
    {
     "data": {
      "image/png": "[encoded data removed]",
      "text/plain": [
       "<Figure size 480x480 with 1 Axes>"
      ]
     },
     "metadata": {},
     "output_type": "display_data"
    },
    {
     "data": {
      "image/png": "[encoded data removed]",
      "text/plain": [
       "<Figure size 480x480 with 1 Axes>"
      ]
     },
     "metadata": {},
     "output_type": "display_data"
    }
   ],
   "source": [
    "plt.matshow(actor_out.detach().cpu()[0])\n",
    "plt.matshow(actor_out.detach().cpu()[0] @ A[0].cpu())\n",
    "#actor_out.detach().cpu()[0]"
   ]
  },
  {
   "cell_type": "code",
   "execution_count": 22,
   "id": "b8ded953-95c8-47ac-82ea-e2f93bfc0d3e",
   "metadata": {},
   "outputs": [],
   "source": [
    "inp = torch.concat([A.view(Config.batch_size, Config.n**2), actor_out.view(Config.batch_size, Config.n**2)], dim=1)\n",
    "ciritic_out = critic(inp)"
   ]
  },
  {
   "cell_type": "code",
   "execution_count": 23,
   "id": "6a7cec3c-47c5-4d78-97b5-b9bcf4a385b8",
   "metadata": {},
   "outputs": [
    {
     "data": {
      "text/plain": [
       "(tensor([[2.2786e-02, 1.8078e-10, 3.1540e-01],\n",
       "         [2.1226e-02, 1.7281e-10, 3.1114e-01],\n",
       "         [2.3047e-02, 2.3490e-10, 3.1708e-01],\n",
       "         [2.3578e-02, 7.0074e-10, 3.4899e-01],\n",
       "         [2.0535e-02, 1.6429e-10, 3.2183e-01],\n",
       "         [2.5447e-02, 7.9799e-10, 3.4344e-01],\n",
       "         [2.2772e-02, 3.9662e-10, 3.2759e-01],\n",
       "         [2.2811e-02, 2.5692e-10, 3.1902e-01],\n",
       "         [2.1832e-02, 2.3119e-10, 3.2196e-01],\n",
       "         [2.4114e-02, 2.2231e-10, 3.1547e-01],\n",
       "         [2.0302e-02, 1.0522e-10, 3.1500e-01],\n",
       "         [2.3914e-02, 4.5853e-10, 3.3198e-01],\n",
       "         [2.0744e-02, 3.0195e-10, 3.3645e-01],\n",
       "         [2.4302e-02, 6.2385e-10, 3.4304e-01],\n",
       "         [2.4534e-02, 4.9627e-10, 3.3209e-01],\n",
       "         [2.3611e-02, 2.8396e-10, 3.1705e-01],\n",
       "         [2.8066e-02, 6.3784e-10, 3.2198e-01],\n",
       "         [2.5270e-02, 5.4362e-10, 3.2206e-01],\n",
       "         [2.4609e-02, 4.9375e-10, 3.2834e-01],\n",
       "         [2.1310e-02, 1.1068e-10, 3.0907e-01],\n",
       "         [2.6878e-02, 4.3258e-10, 3.1466e-01],\n",
       "         [2.7706e-02, 2.0569e-09, 3.5190e-01],\n",
       "         [2.5570e-02, 4.4616e-10, 3.3070e-01],\n",
       "         [2.3041e-02, 2.1045e-10, 3.1188e-01],\n",
       "         [2.1449e-02, 1.6004e-10, 3.1687e-01],\n",
       "         [2.3800e-02, 5.8166e-10, 3.3983e-01],\n",
       "         [2.2764e-02, 4.8809e-10, 3.2834e-01],\n",
       "         [2.7754e-02, 1.1204e-09, 3.4715e-01],\n",
       "         [2.1199e-02, 1.3917e-10, 3.1742e-01],\n",
       "         [2.6865e-02, 1.2726e-09, 3.3502e-01],\n",
       "         [2.0632e-02, 1.7888e-10, 3.1323e-01],\n",
       "         [2.1450e-02, 2.5885e-10, 3.2861e-01]], device='cuda:2',\n",
       "        grad_fn=<SigmoidBackward0>),\n",
       " (tensor([0.0032, 0.0064, 0.0160, 0.0128, 0.0096, 0.0096, 0.0064, 0.0128, 0.0096,\n",
       "          0.0000, 0.0064, 0.0032, 0.0064, 0.0096, 0.0096, 0.0160, 0.0256, 0.0064,\n",
       "          0.0064, 0.0032, 0.0672, 0.0096, 0.0128, 0.0000, 0.0064, 0.0096, 0.0128,\n",
       "          0.0064, 0.0096, 0.0096, 0.0128, 0.0096], device='cuda:2'),\n",
       "  0,\n",
       "  tensor([[0.9985],\n",
       "          [0.9983],\n",
       "          [0.9971],\n",
       "          [0.9997],\n",
       "          [0.9997],\n",
       "          [0.9990],\n",
       "          [0.9898],\n",
       "          [0.9992],\n",
       "          [0.9931],\n",
       "          [0.9907],\n",
       "          [0.9968],\n",
       "          [0.9907],\n",
       "          [0.9999],\n",
       "          [0.9999],\n",
       "          [0.9992],\n",
       "          [0.9965],\n",
       "          [0.9874],\n",
       "          [0.9979],\n",
       "          [0.9852],\n",
       "          [0.9748],\n",
       "          [0.9763],\n",
       "          [0.9943],\n",
       "          [0.9945],\n",
       "          [0.9651],\n",
       "          [0.9990],\n",
       "          [0.9995],\n",
       "          [0.9695],\n",
       "          [0.9088],\n",
       "          [0.9986],\n",
       "          [0.9657],\n",
       "          [0.9810],\n",
       "          [0.9999]], device='cuda:2', grad_fn=<MulBackward0>)))"
      ]
     },
     "execution_count": 23,
     "metadata": {},
     "output_type": "execute_result"
    }
   ],
   "source": [
    "sarse  = ciritic_out[:, 0].view(32, 1)\n",
    "niter = ciritic_out[:, 1].view(32, 1)\n",
    "residuals = ciritic_out[:, 2].view(32, 1)\n",
    "\n",
    "critic_update = critic_crit(sarse, niter, residuals, A.view(32, 25, 25), actor_out.view(32, 25, 25), b)\n",
    "\n",
    "ciritic_out, reward_func.forward(A.view(32, 25, 25), actor_out.view(32, 25, 25), b)"
   ]
  },
  {
   "cell_type": "code",
   "execution_count": null,
   "id": "e6a5ce0a-f4f6-4eda-97cd-8ac3c063f4bc",
   "metadata": {},
   "outputs": [],
   "source": []
  },
  {
   "cell_type": "code",
   "execution_count": null,
   "id": "e16344da-fe10-43be-a6ac-ddd735c4dfbc",
   "metadata": {},
   "outputs": [],
   "source": []
  }
 ],
 "metadata": {
  "kernelspec": {
   "display_name": "Python 3 (ipykernel)",
   "language": "python",
   "name": "python3"
  },
  "language_info": {
   "codemirror_mode": {
    "name": "ipython",
    "version": 3
   },
   "file_extension": ".py",
   "mimetype": "text/x-python",
   "name": "python",
   "nbconvert_exporter": "python",
   "pygments_lexer": "ipython3",
   "version": "3.9.7"
  }
 },
 "nbformat": 4,
 "nbformat_minor": 5
}
